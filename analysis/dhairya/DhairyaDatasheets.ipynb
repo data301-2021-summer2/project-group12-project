{
 "cells": [
  {
   "cell_type": "markdown",
   "metadata": {},
   "source": [
    " # **Data Objects**"
   ]
  },
  {
   "cell_type": "markdown",
   "metadata": {},
   "source": [
    "### **1)Importing libraries**\n",
    "</br>\n"
   ]
  },
  {
   "cell_type": "code",
   "execution_count": 1,
   "metadata": {},
   "outputs": [],
   "source": [
    "import pandas as pd \n",
    "import numpy as np\n",
    "import sys\n",
    "import seaborn as sns\n",
    "import os\n",
    "import matplotlib.pyplot as plt\n",
    "from IPython.display import display, HTML"
   ]
  },
  {
   "cell_type": "markdown",
   "metadata": {},
   "source": [
    "## ***2) Data Wrangling*** </br>"
   ]
  },
  {
   "cell_type": "markdown",
   "metadata": {},
   "source": [
    "#### ***2.1) Importing project_function***"
   ]
  },
  {
   "cell_type": "code",
   "execution_count": 2,
   "metadata": {},
   "outputs": [],
   "source": [
    "sys.path.append('../..')\n",
    "import projects_functions as pf\n"
   ]
  },
  {
   "cell_type": "markdown",
   "metadata": {},
   "source": [
    "#### ***2.2) Loading Data Frames***"
   ]
  },
  {
   "cell_type": "code",
   "execution_count": 3,
   "metadata": {},
   "outputs": [
    {
     "data": {
      "text/html": [
       "<div>\n",
       "<style scoped>\n",
       "    .dataframe tbody tr th:only-of-type {\n",
       "        vertical-align: middle;\n",
       "    }\n",
       "\n",
       "    .dataframe tbody tr th {\n",
       "        vertical-align: top;\n",
       "    }\n",
       "\n",
       "    .dataframe thead th {\n",
       "        text-align: right;\n",
       "    }\n",
       "</style>\n",
       "<table border=\"1\" class=\"dataframe\">\n",
       "  <thead>\n",
       "    <tr style=\"text-align: right;\">\n",
       "      <th></th>\n",
       "      <th>Game</th>\n",
       "      <th>Genre</th>\n",
       "      <th>Publisher</th>\n",
       "      <th>North America</th>\n",
       "      <th>Europe</th>\n",
       "      <th>Japan</th>\n",
       "      <th>Rest of World</th>\n",
       "      <th>Global</th>\n",
       "    </tr>\n",
       "  </thead>\n",
       "  <tbody>\n",
       "    <tr>\n",
       "      <th>0</th>\n",
       "      <td>Grand Theft Auto V</td>\n",
       "      <td>Action</td>\n",
       "      <td>Rockstar Games</td>\n",
       "      <td>6.06</td>\n",
       "      <td>9.71</td>\n",
       "      <td>0.60</td>\n",
       "      <td>3.02</td>\n",
       "      <td>19.39</td>\n",
       "    </tr>\n",
       "    <tr>\n",
       "      <th>1</th>\n",
       "      <td>Call of Duty: Black Ops 3</td>\n",
       "      <td>Shooter</td>\n",
       "      <td>Activision</td>\n",
       "      <td>6.18</td>\n",
       "      <td>6.05</td>\n",
       "      <td>0.41</td>\n",
       "      <td>2.44</td>\n",
       "      <td>15.09</td>\n",
       "    </tr>\n",
       "    <tr>\n",
       "      <th>2</th>\n",
       "      <td>Red Dead Redemption 2</td>\n",
       "      <td>Action-Adventure</td>\n",
       "      <td>Rockstar Games</td>\n",
       "      <td>5.26</td>\n",
       "      <td>6.21</td>\n",
       "      <td>0.21</td>\n",
       "      <td>2.26</td>\n",
       "      <td>13.94</td>\n",
       "    </tr>\n",
       "    <tr>\n",
       "      <th>3</th>\n",
       "      <td>Call of Duty: WWII</td>\n",
       "      <td>Shooter</td>\n",
       "      <td>Activision</td>\n",
       "      <td>4.67</td>\n",
       "      <td>6.21</td>\n",
       "      <td>0.40</td>\n",
       "      <td>2.12</td>\n",
       "      <td>13.40</td>\n",
       "    </tr>\n",
       "    <tr>\n",
       "      <th>4</th>\n",
       "      <td>FIFA 18</td>\n",
       "      <td>Sports</td>\n",
       "      <td>EA Sports</td>\n",
       "      <td>1.27</td>\n",
       "      <td>8.64</td>\n",
       "      <td>0.15</td>\n",
       "      <td>1.73</td>\n",
       "      <td>11.80</td>\n",
       "    </tr>\n",
       "    <tr>\n",
       "      <th>...</th>\n",
       "      <td>...</td>\n",
       "      <td>...</td>\n",
       "      <td>...</td>\n",
       "      <td>...</td>\n",
       "      <td>...</td>\n",
       "      <td>...</td>\n",
       "      <td>...</td>\n",
       "      <td>...</td>\n",
       "    </tr>\n",
       "    <tr>\n",
       "      <th>495</th>\n",
       "      <td>Le Tour de France 2017</td>\n",
       "      <td>Simulation</td>\n",
       "      <td>Focus Home Interactive</td>\n",
       "      <td>0.00</td>\n",
       "      <td>0.06</td>\n",
       "      <td>0.00</td>\n",
       "      <td>0.01</td>\n",
       "      <td>0.07</td>\n",
       "    </tr>\n",
       "    <tr>\n",
       "      <th>496</th>\n",
       "      <td>City Shrouded in Shadow</td>\n",
       "      <td>Action-Adventure</td>\n",
       "      <td>Namco Bandai Games</td>\n",
       "      <td>0.00</td>\n",
       "      <td>0.00</td>\n",
       "      <td>0.07</td>\n",
       "      <td>0.00</td>\n",
       "      <td>0.07</td>\n",
       "    </tr>\n",
       "    <tr>\n",
       "      <th>497</th>\n",
       "      <td>SG/ZH: School Girl/Zombie Hunter</td>\n",
       "      <td>Action</td>\n",
       "      <td>Aksys Games</td>\n",
       "      <td>0.04</td>\n",
       "      <td>0.00</td>\n",
       "      <td>0.02</td>\n",
       "      <td>0.01</td>\n",
       "      <td>0.07</td>\n",
       "    </tr>\n",
       "    <tr>\n",
       "      <th>498</th>\n",
       "      <td>Broken Sword 5: The Serpent's Curse</td>\n",
       "      <td>Adventure</td>\n",
       "      <td>Revolution Software</td>\n",
       "      <td>0.00</td>\n",
       "      <td>0.06</td>\n",
       "      <td>0.00</td>\n",
       "      <td>0.01</td>\n",
       "      <td>0.07</td>\n",
       "    </tr>\n",
       "    <tr>\n",
       "      <th>499</th>\n",
       "      <td>Terraria</td>\n",
       "      <td>Action</td>\n",
       "      <td>505 Games</td>\n",
       "      <td>0.00</td>\n",
       "      <td>0.05</td>\n",
       "      <td>0.01</td>\n",
       "      <td>0.01</td>\n",
       "      <td>0.07</td>\n",
       "    </tr>\n",
       "  </tbody>\n",
       "</table>\n",
       "<p>500 rows × 8 columns</p>\n",
       "</div>"
      ],
      "text/plain": [
       "                                    Game             Genre  \\\n",
       "0                     Grand Theft Auto V            Action   \n",
       "1              Call of Duty: Black Ops 3           Shooter   \n",
       "2                  Red Dead Redemption 2  Action-Adventure   \n",
       "3                     Call of Duty: WWII           Shooter   \n",
       "4                                FIFA 18            Sports   \n",
       "..                                   ...               ...   \n",
       "495               Le Tour de France 2017        Simulation   \n",
       "496              City Shrouded in Shadow  Action-Adventure   \n",
       "497     SG/ZH: School Girl/Zombie Hunter            Action   \n",
       "498  Broken Sword 5: The Serpent's Curse         Adventure   \n",
       "499                             Terraria            Action   \n",
       "\n",
       "                  Publisher  North America  Europe  Japan  Rest of World  \\\n",
       "0            Rockstar Games           6.06    9.71   0.60           3.02   \n",
       "1                Activision           6.18    6.05   0.41           2.44   \n",
       "2            Rockstar Games           5.26    6.21   0.21           2.26   \n",
       "3                Activision           4.67    6.21   0.40           2.12   \n",
       "4                 EA Sports           1.27    8.64   0.15           1.73   \n",
       "..                      ...            ...     ...    ...            ...   \n",
       "495  Focus Home Interactive           0.00    0.06   0.00           0.01   \n",
       "496      Namco Bandai Games           0.00    0.00   0.07           0.00   \n",
       "497             Aksys Games           0.04    0.00   0.02           0.01   \n",
       "498     Revolution Software           0.00    0.06   0.00           0.01   \n",
       "499               505 Games           0.00    0.05   0.01           0.01   \n",
       "\n",
       "     Global  \n",
       "0     19.39  \n",
       "1     15.09  \n",
       "2     13.94  \n",
       "3     13.40  \n",
       "4     11.80  \n",
       "..      ...  \n",
       "495    0.07  \n",
       "496    0.07  \n",
       "497    0.07  \n",
       "498    0.07  \n",
       "499    0.07  \n",
       "\n",
       "[500 rows x 8 columns]"
      ]
     },
     "execution_count": 3,
     "metadata": {},
     "output_type": "execute_result"
    }
   ],
   "source": [
    "data_PS4 =pf.load_and_process('/Users/dhairyab019/project-group12-project/data/raw/PS4_GamesSales.csv')\n",
    "data_PS4"
   ]
  },
  {
   "cell_type": "code",
   "execution_count": 4,
   "metadata": {},
   "outputs": [
    {
     "data": {
      "text/html": [
       "<div>\n",
       "<style scoped>\n",
       "    .dataframe tbody tr th:only-of-type {\n",
       "        vertical-align: middle;\n",
       "    }\n",
       "\n",
       "    .dataframe tbody tr th {\n",
       "        vertical-align: top;\n",
       "    }\n",
       "\n",
       "    .dataframe thead th {\n",
       "        text-align: right;\n",
       "    }\n",
       "</style>\n",
       "<table border=\"1\" class=\"dataframe\">\n",
       "  <thead>\n",
       "    <tr style=\"text-align: right;\">\n",
       "      <th></th>\n",
       "      <th>Pos</th>\n",
       "      <th>Game</th>\n",
       "      <th>Genre</th>\n",
       "      <th>Publisher</th>\n",
       "      <th>North America</th>\n",
       "      <th>Europe</th>\n",
       "      <th>Japan</th>\n",
       "      <th>Rest of World</th>\n",
       "      <th>Global</th>\n",
       "    </tr>\n",
       "  </thead>\n",
       "  <tbody>\n",
       "    <tr>\n",
       "      <th>0</th>\n",
       "      <td>1</td>\n",
       "      <td>Grand Theft Auto V</td>\n",
       "      <td>Action</td>\n",
       "      <td>Rockstar Games</td>\n",
       "      <td>4.70</td>\n",
       "      <td>3.25</td>\n",
       "      <td>0.01</td>\n",
       "      <td>0.76</td>\n",
       "      <td>8.72</td>\n",
       "    </tr>\n",
       "    <tr>\n",
       "      <th>1</th>\n",
       "      <td>2</td>\n",
       "      <td>Call of Duty: Black Ops 3</td>\n",
       "      <td>Shooter</td>\n",
       "      <td>Activision</td>\n",
       "      <td>4.63</td>\n",
       "      <td>2.04</td>\n",
       "      <td>0.02</td>\n",
       "      <td>0.68</td>\n",
       "      <td>7.37</td>\n",
       "    </tr>\n",
       "    <tr>\n",
       "      <th>2</th>\n",
       "      <td>3</td>\n",
       "      <td>Call of Duty: WWII</td>\n",
       "      <td>Shooter</td>\n",
       "      <td>Activision</td>\n",
       "      <td>3.75</td>\n",
       "      <td>1.91</td>\n",
       "      <td>0.00</td>\n",
       "      <td>0.57</td>\n",
       "      <td>6.23</td>\n",
       "    </tr>\n",
       "    <tr>\n",
       "      <th>3</th>\n",
       "      <td>4</td>\n",
       "      <td>Red Dead Redemption 2</td>\n",
       "      <td>Action-Adventure</td>\n",
       "      <td>Rockstar Games</td>\n",
       "      <td>3.76</td>\n",
       "      <td>1.47</td>\n",
       "      <td>0.00</td>\n",
       "      <td>0.54</td>\n",
       "      <td>5.77</td>\n",
       "    </tr>\n",
       "    <tr>\n",
       "      <th>4</th>\n",
       "      <td>5</td>\n",
       "      <td>MineCraft</td>\n",
       "      <td>Misc</td>\n",
       "      <td>Microsoft Studios</td>\n",
       "      <td>3.23</td>\n",
       "      <td>1.71</td>\n",
       "      <td>0.00</td>\n",
       "      <td>0.49</td>\n",
       "      <td>5.43</td>\n",
       "    </tr>\n",
       "    <tr>\n",
       "      <th>...</th>\n",
       "      <td>...</td>\n",
       "      <td>...</td>\n",
       "      <td>...</td>\n",
       "      <td>...</td>\n",
       "      <td>...</td>\n",
       "      <td>...</td>\n",
       "      <td>...</td>\n",
       "      <td>...</td>\n",
       "      <td>...</td>\n",
       "    </tr>\n",
       "    <tr>\n",
       "      <th>495</th>\n",
       "      <td>604</td>\n",
       "      <td>Metro Exodus</td>\n",
       "      <td>Shooter</td>\n",
       "      <td>Deep Silver</td>\n",
       "      <td>0.00</td>\n",
       "      <td>0.00</td>\n",
       "      <td>0.00</td>\n",
       "      <td>0.00</td>\n",
       "      <td>0.00</td>\n",
       "    </tr>\n",
       "    <tr>\n",
       "      <th>496</th>\n",
       "      <td>605</td>\n",
       "      <td>Anthem</td>\n",
       "      <td>Role-Playing</td>\n",
       "      <td>Electronic Arts</td>\n",
       "      <td>0.00</td>\n",
       "      <td>0.00</td>\n",
       "      <td>0.00</td>\n",
       "      <td>0.00</td>\n",
       "      <td>0.00</td>\n",
       "    </tr>\n",
       "    <tr>\n",
       "      <th>497</th>\n",
       "      <td>606</td>\n",
       "      <td>AereA</td>\n",
       "      <td>Role-Playing</td>\n",
       "      <td>Soedesco</td>\n",
       "      <td>0.00</td>\n",
       "      <td>0.00</td>\n",
       "      <td>0.00</td>\n",
       "      <td>0.00</td>\n",
       "      <td>0.00</td>\n",
       "    </tr>\n",
       "    <tr>\n",
       "      <th>498</th>\n",
       "      <td>607</td>\n",
       "      <td>Moons Of Madness</td>\n",
       "      <td>Role-Playing</td>\n",
       "      <td>Unknown</td>\n",
       "      <td>0.00</td>\n",
       "      <td>0.00</td>\n",
       "      <td>0.00</td>\n",
       "      <td>0.00</td>\n",
       "      <td>0.00</td>\n",
       "    </tr>\n",
       "    <tr>\n",
       "      <th>499</th>\n",
       "      <td>608</td>\n",
       "      <td>Iron Harvest</td>\n",
       "      <td>Strategy</td>\n",
       "      <td>Unknown</td>\n",
       "      <td>0.00</td>\n",
       "      <td>0.00</td>\n",
       "      <td>0.00</td>\n",
       "      <td>0.00</td>\n",
       "      <td>0.00</td>\n",
       "    </tr>\n",
       "  </tbody>\n",
       "</table>\n",
       "<p>500 rows × 9 columns</p>\n",
       "</div>"
      ],
      "text/plain": [
       "     Pos                       Game             Genre          Publisher  \\\n",
       "0      1         Grand Theft Auto V            Action     Rockstar Games   \n",
       "1      2  Call of Duty: Black Ops 3           Shooter         Activision   \n",
       "2      3         Call of Duty: WWII           Shooter         Activision   \n",
       "3      4      Red Dead Redemption 2  Action-Adventure     Rockstar Games   \n",
       "4      5                  MineCraft              Misc  Microsoft Studios   \n",
       "..   ...                        ...               ...                ...   \n",
       "495  604               Metro Exodus           Shooter        Deep Silver   \n",
       "496  605                     Anthem      Role-Playing    Electronic Arts   \n",
       "497  606                      AereA      Role-Playing           Soedesco   \n",
       "498  607           Moons Of Madness      Role-Playing            Unknown   \n",
       "499  608               Iron Harvest          Strategy            Unknown   \n",
       "\n",
       "     North America  Europe  Japan  Rest of World  Global  \n",
       "0             4.70    3.25   0.01           0.76    8.72  \n",
       "1             4.63    2.04   0.02           0.68    7.37  \n",
       "2             3.75    1.91   0.00           0.57    6.23  \n",
       "3             3.76    1.47   0.00           0.54    5.77  \n",
       "4             3.23    1.71   0.00           0.49    5.43  \n",
       "..             ...     ...    ...            ...     ...  \n",
       "495           0.00    0.00   0.00           0.00    0.00  \n",
       "496           0.00    0.00   0.00           0.00    0.00  \n",
       "497           0.00    0.00   0.00           0.00    0.00  \n",
       "498           0.00    0.00   0.00           0.00    0.00  \n",
       "499           0.00    0.00   0.00           0.00    0.00  \n",
       "\n",
       "[500 rows x 9 columns]"
      ]
     },
     "execution_count": 4,
     "metadata": {},
     "output_type": "execute_result"
    }
   ],
   "source": [
    "data_XBOXONE = pf.load_and_process('/Users/dhairyab019/project-group12-project/data/raw/XboxOne_GameSales.csv')\n",
    "data_XBOXONE"
   ]
  },
  {
   "cell_type": "code",
   "execution_count": 5,
   "metadata": {},
   "outputs": [
    {
     "data": {
      "text/html": [
       "<div>\n",
       "<style scoped>\n",
       "    .dataframe tbody tr th:only-of-type {\n",
       "        vertical-align: middle;\n",
       "    }\n",
       "\n",
       "    .dataframe tbody tr th {\n",
       "        vertical-align: top;\n",
       "    }\n",
       "\n",
       "    .dataframe thead th {\n",
       "        text-align: right;\n",
       "    }\n",
       "</style>\n",
       "<table border=\"1\" class=\"dataframe\">\n",
       "  <thead>\n",
       "    <tr style=\"text-align: right;\">\n",
       "      <th></th>\n",
       "      <th>Game</th>\n",
       "      <th>Genre</th>\n",
       "      <th>Publisher</th>\n",
       "      <th>North America</th>\n",
       "      <th>Europe</th>\n",
       "      <th>Japan</th>\n",
       "      <th>Rest of World</th>\n",
       "      <th>Global</th>\n",
       "    </tr>\n",
       "  </thead>\n",
       "  <tbody>\n",
       "    <tr>\n",
       "      <th>0</th>\n",
       "      <td>Grand Theft Auto V</td>\n",
       "      <td>Action</td>\n",
       "      <td>Rockstar Games</td>\n",
       "      <td>6.06</td>\n",
       "      <td>9.71</td>\n",
       "      <td>0.60</td>\n",
       "      <td>3.02</td>\n",
       "      <td>19.39</td>\n",
       "    </tr>\n",
       "    <tr>\n",
       "      <th>1</th>\n",
       "      <td>Call of Duty: Black Ops 3</td>\n",
       "      <td>Shooter</td>\n",
       "      <td>Activision</td>\n",
       "      <td>6.18</td>\n",
       "      <td>6.05</td>\n",
       "      <td>0.41</td>\n",
       "      <td>2.44</td>\n",
       "      <td>15.09</td>\n",
       "    </tr>\n",
       "    <tr>\n",
       "      <th>2</th>\n",
       "      <td>Red Dead Redemption 2</td>\n",
       "      <td>Action-Adventure</td>\n",
       "      <td>Rockstar Games</td>\n",
       "      <td>5.26</td>\n",
       "      <td>6.21</td>\n",
       "      <td>0.21</td>\n",
       "      <td>2.26</td>\n",
       "      <td>13.94</td>\n",
       "    </tr>\n",
       "    <tr>\n",
       "      <th>3</th>\n",
       "      <td>Call of Duty: WWII</td>\n",
       "      <td>Shooter</td>\n",
       "      <td>Activision</td>\n",
       "      <td>4.67</td>\n",
       "      <td>6.21</td>\n",
       "      <td>0.40</td>\n",
       "      <td>2.12</td>\n",
       "      <td>13.40</td>\n",
       "    </tr>\n",
       "    <tr>\n",
       "      <th>4</th>\n",
       "      <td>FIFA 18</td>\n",
       "      <td>Sports</td>\n",
       "      <td>EA Sports</td>\n",
       "      <td>1.27</td>\n",
       "      <td>8.64</td>\n",
       "      <td>0.15</td>\n",
       "      <td>1.73</td>\n",
       "      <td>11.80</td>\n",
       "    </tr>\n",
       "    <tr>\n",
       "      <th>...</th>\n",
       "      <td>...</td>\n",
       "      <td>...</td>\n",
       "      <td>...</td>\n",
       "      <td>...</td>\n",
       "      <td>...</td>\n",
       "      <td>...</td>\n",
       "      <td>...</td>\n",
       "      <td>...</td>\n",
       "    </tr>\n",
       "    <tr>\n",
       "      <th>495</th>\n",
       "      <td>Le Tour de France 2017</td>\n",
       "      <td>Simulation</td>\n",
       "      <td>Focus Home Interactive</td>\n",
       "      <td>0.00</td>\n",
       "      <td>0.06</td>\n",
       "      <td>0.00</td>\n",
       "      <td>0.01</td>\n",
       "      <td>0.07</td>\n",
       "    </tr>\n",
       "    <tr>\n",
       "      <th>496</th>\n",
       "      <td>City Shrouded in Shadow</td>\n",
       "      <td>Action-Adventure</td>\n",
       "      <td>Namco Bandai Games</td>\n",
       "      <td>0.00</td>\n",
       "      <td>0.00</td>\n",
       "      <td>0.07</td>\n",
       "      <td>0.00</td>\n",
       "      <td>0.07</td>\n",
       "    </tr>\n",
       "    <tr>\n",
       "      <th>497</th>\n",
       "      <td>SG/ZH: School Girl/Zombie Hunter</td>\n",
       "      <td>Action</td>\n",
       "      <td>Aksys Games</td>\n",
       "      <td>0.04</td>\n",
       "      <td>0.00</td>\n",
       "      <td>0.02</td>\n",
       "      <td>0.01</td>\n",
       "      <td>0.07</td>\n",
       "    </tr>\n",
       "    <tr>\n",
       "      <th>498</th>\n",
       "      <td>Broken Sword 5: The Serpent's Curse</td>\n",
       "      <td>Adventure</td>\n",
       "      <td>Revolution Software</td>\n",
       "      <td>0.00</td>\n",
       "      <td>0.06</td>\n",
       "      <td>0.00</td>\n",
       "      <td>0.01</td>\n",
       "      <td>0.07</td>\n",
       "    </tr>\n",
       "    <tr>\n",
       "      <th>499</th>\n",
       "      <td>Terraria</td>\n",
       "      <td>Action</td>\n",
       "      <td>505 Games</td>\n",
       "      <td>0.00</td>\n",
       "      <td>0.05</td>\n",
       "      <td>0.01</td>\n",
       "      <td>0.01</td>\n",
       "      <td>0.07</td>\n",
       "    </tr>\n",
       "  </tbody>\n",
       "</table>\n",
       "<p>500 rows × 8 columns</p>\n",
       "</div>"
      ],
      "text/plain": [
       "                                    Game             Genre  \\\n",
       "0                     Grand Theft Auto V            Action   \n",
       "1              Call of Duty: Black Ops 3           Shooter   \n",
       "2                  Red Dead Redemption 2  Action-Adventure   \n",
       "3                     Call of Duty: WWII           Shooter   \n",
       "4                                FIFA 18            Sports   \n",
       "..                                   ...               ...   \n",
       "495               Le Tour de France 2017        Simulation   \n",
       "496              City Shrouded in Shadow  Action-Adventure   \n",
       "497     SG/ZH: School Girl/Zombie Hunter            Action   \n",
       "498  Broken Sword 5: The Serpent's Curse         Adventure   \n",
       "499                             Terraria            Action   \n",
       "\n",
       "                  Publisher  North America  Europe  Japan  Rest of World  \\\n",
       "0            Rockstar Games           6.06    9.71   0.60           3.02   \n",
       "1                Activision           6.18    6.05   0.41           2.44   \n",
       "2            Rockstar Games           5.26    6.21   0.21           2.26   \n",
       "3                Activision           4.67    6.21   0.40           2.12   \n",
       "4                 EA Sports           1.27    8.64   0.15           1.73   \n",
       "..                      ...            ...     ...    ...            ...   \n",
       "495  Focus Home Interactive           0.00    0.06   0.00           0.01   \n",
       "496      Namco Bandai Games           0.00    0.00   0.07           0.00   \n",
       "497             Aksys Games           0.04    0.00   0.02           0.01   \n",
       "498     Revolution Software           0.00    0.06   0.00           0.01   \n",
       "499               505 Games           0.00    0.05   0.01           0.01   \n",
       "\n",
       "     Global  \n",
       "0     19.39  \n",
       "1     15.09  \n",
       "2     13.94  \n",
       "3     13.40  \n",
       "4     11.80  \n",
       "..      ...  \n",
       "495    0.07  \n",
       "496    0.07  \n",
       "497    0.07  \n",
       "498    0.07  \n",
       "499    0.07  \n",
       "\n",
       "[500 rows x 8 columns]"
      ]
     },
     "execution_count": 5,
     "metadata": {},
     "output_type": "execute_result"
    }
   ],
   "source": [
    "(data_PS4)"
   ]
  },
  {
   "cell_type": "code",
   "execution_count": 6,
   "metadata": {},
   "outputs": [
    {
     "data": {
      "text/html": [
       "<div>\n",
       "<style scoped>\n",
       "    .dataframe tbody tr th:only-of-type {\n",
       "        vertical-align: middle;\n",
       "    }\n",
       "\n",
       "    .dataframe tbody tr th {\n",
       "        vertical-align: top;\n",
       "    }\n",
       "\n",
       "    .dataframe thead th {\n",
       "        text-align: right;\n",
       "    }\n",
       "</style>\n",
       "<table border=\"1\" class=\"dataframe\">\n",
       "  <thead>\n",
       "    <tr style=\"text-align: right;\">\n",
       "      <th></th>\n",
       "      <th>Game</th>\n",
       "      <th>Genre</th>\n",
       "      <th>Publisher</th>\n",
       "      <th>North America</th>\n",
       "      <th>Europe</th>\n",
       "      <th>Japan</th>\n",
       "      <th>Rest of World</th>\n",
       "      <th>Global</th>\n",
       "    </tr>\n",
       "  </thead>\n",
       "  <tbody>\n",
       "    <tr>\n",
       "      <th>0</th>\n",
       "      <td>Grand Theft Auto V</td>\n",
       "      <td>Action</td>\n",
       "      <td>Rockstar Games</td>\n",
       "      <td>4.70</td>\n",
       "      <td>3.25</td>\n",
       "      <td>0.01</td>\n",
       "      <td>0.76</td>\n",
       "      <td>8.72</td>\n",
       "    </tr>\n",
       "    <tr>\n",
       "      <th>1</th>\n",
       "      <td>Call of Duty: Black Ops 3</td>\n",
       "      <td>Shooter</td>\n",
       "      <td>Activision</td>\n",
       "      <td>4.63</td>\n",
       "      <td>2.04</td>\n",
       "      <td>0.02</td>\n",
       "      <td>0.68</td>\n",
       "      <td>7.37</td>\n",
       "    </tr>\n",
       "    <tr>\n",
       "      <th>2</th>\n",
       "      <td>Call of Duty: WWII</td>\n",
       "      <td>Shooter</td>\n",
       "      <td>Activision</td>\n",
       "      <td>3.75</td>\n",
       "      <td>1.91</td>\n",
       "      <td>0.00</td>\n",
       "      <td>0.57</td>\n",
       "      <td>6.23</td>\n",
       "    </tr>\n",
       "    <tr>\n",
       "      <th>3</th>\n",
       "      <td>Red Dead Redemption 2</td>\n",
       "      <td>Action-Adventure</td>\n",
       "      <td>Rockstar Games</td>\n",
       "      <td>3.76</td>\n",
       "      <td>1.47</td>\n",
       "      <td>0.00</td>\n",
       "      <td>0.54</td>\n",
       "      <td>5.77</td>\n",
       "    </tr>\n",
       "    <tr>\n",
       "      <th>4</th>\n",
       "      <td>MineCraft</td>\n",
       "      <td>Misc</td>\n",
       "      <td>Microsoft Studios</td>\n",
       "      <td>3.23</td>\n",
       "      <td>1.71</td>\n",
       "      <td>0.00</td>\n",
       "      <td>0.49</td>\n",
       "      <td>5.43</td>\n",
       "    </tr>\n",
       "    <tr>\n",
       "      <th>...</th>\n",
       "      <td>...</td>\n",
       "      <td>...</td>\n",
       "      <td>...</td>\n",
       "      <td>...</td>\n",
       "      <td>...</td>\n",
       "      <td>...</td>\n",
       "      <td>...</td>\n",
       "      <td>...</td>\n",
       "    </tr>\n",
       "    <tr>\n",
       "      <th>495</th>\n",
       "      <td>Metro Exodus</td>\n",
       "      <td>Shooter</td>\n",
       "      <td>Deep Silver</td>\n",
       "      <td>0.00</td>\n",
       "      <td>0.00</td>\n",
       "      <td>0.00</td>\n",
       "      <td>0.00</td>\n",
       "      <td>0.00</td>\n",
       "    </tr>\n",
       "    <tr>\n",
       "      <th>496</th>\n",
       "      <td>Anthem</td>\n",
       "      <td>Role-Playing</td>\n",
       "      <td>Electronic Arts</td>\n",
       "      <td>0.00</td>\n",
       "      <td>0.00</td>\n",
       "      <td>0.00</td>\n",
       "      <td>0.00</td>\n",
       "      <td>0.00</td>\n",
       "    </tr>\n",
       "    <tr>\n",
       "      <th>497</th>\n",
       "      <td>AereA</td>\n",
       "      <td>Role-Playing</td>\n",
       "      <td>Soedesco</td>\n",
       "      <td>0.00</td>\n",
       "      <td>0.00</td>\n",
       "      <td>0.00</td>\n",
       "      <td>0.00</td>\n",
       "      <td>0.00</td>\n",
       "    </tr>\n",
       "    <tr>\n",
       "      <th>498</th>\n",
       "      <td>Moons Of Madness</td>\n",
       "      <td>Role-Playing</td>\n",
       "      <td>Unknown</td>\n",
       "      <td>0.00</td>\n",
       "      <td>0.00</td>\n",
       "      <td>0.00</td>\n",
       "      <td>0.00</td>\n",
       "      <td>0.00</td>\n",
       "    </tr>\n",
       "    <tr>\n",
       "      <th>499</th>\n",
       "      <td>Iron Harvest</td>\n",
       "      <td>Strategy</td>\n",
       "      <td>Unknown</td>\n",
       "      <td>0.00</td>\n",
       "      <td>0.00</td>\n",
       "      <td>0.00</td>\n",
       "      <td>0.00</td>\n",
       "      <td>0.00</td>\n",
       "    </tr>\n",
       "  </tbody>\n",
       "</table>\n",
       "<p>500 rows × 8 columns</p>\n",
       "</div>"
      ],
      "text/plain": [
       "                          Game             Genre          Publisher  \\\n",
       "0           Grand Theft Auto V            Action     Rockstar Games   \n",
       "1    Call of Duty: Black Ops 3           Shooter         Activision   \n",
       "2           Call of Duty: WWII           Shooter         Activision   \n",
       "3        Red Dead Redemption 2  Action-Adventure     Rockstar Games   \n",
       "4                    MineCraft              Misc  Microsoft Studios   \n",
       "..                         ...               ...                ...   \n",
       "495               Metro Exodus           Shooter        Deep Silver   \n",
       "496                     Anthem      Role-Playing    Electronic Arts   \n",
       "497                      AereA      Role-Playing           Soedesco   \n",
       "498           Moons Of Madness      Role-Playing            Unknown   \n",
       "499               Iron Harvest          Strategy            Unknown   \n",
       "\n",
       "     North America  Europe  Japan  Rest of World  Global  \n",
       "0             4.70    3.25   0.01           0.76    8.72  \n",
       "1             4.63    2.04   0.02           0.68    7.37  \n",
       "2             3.75    1.91   0.00           0.57    6.23  \n",
       "3             3.76    1.47   0.00           0.54    5.77  \n",
       "4             3.23    1.71   0.00           0.49    5.43  \n",
       "..             ...     ...    ...            ...     ...  \n",
       "495           0.00    0.00   0.00           0.00    0.00  \n",
       "496           0.00    0.00   0.00           0.00    0.00  \n",
       "497           0.00    0.00   0.00           0.00    0.00  \n",
       "498           0.00    0.00   0.00           0.00    0.00  \n",
       "499           0.00    0.00   0.00           0.00    0.00  \n",
       "\n",
       "[500 rows x 8 columns]"
      ]
     },
     "execution_count": 6,
     "metadata": {},
     "output_type": "execute_result"
    }
   ],
   "source": [
    "data_XBOXONE.drop(columns ='Pos',inplace =True)\n",
    "data_XBOXONE"
   ]
  },
  {
   "cell_type": "markdown",
   "metadata": {},
   "source": [
    "#### ***2.3 Exporting csv files for furthur Data Wrangling***"
   ]
  },
  {
   "cell_type": "code",
   "execution_count": 7,
   "metadata": {},
   "outputs": [
    {
     "data": {
      "text/html": [
       "<div>\n",
       "<style scoped>\n",
       "    .dataframe tbody tr th:only-of-type {\n",
       "        vertical-align: middle;\n",
       "    }\n",
       "\n",
       "    .dataframe tbody tr th {\n",
       "        vertical-align: top;\n",
       "    }\n",
       "\n",
       "    .dataframe thead th {\n",
       "        text-align: right;\n",
       "    }\n",
       "</style>\n",
       "<table border=\"1\" class=\"dataframe\">\n",
       "  <thead>\n",
       "    <tr style=\"text-align: right;\">\n",
       "      <th></th>\n",
       "      <th>Game</th>\n",
       "      <th>Genre</th>\n",
       "      <th>Publisher</th>\n",
       "      <th>North America</th>\n",
       "      <th>Europe</th>\n",
       "      <th>Japan</th>\n",
       "      <th>Rest of World</th>\n",
       "      <th>Global</th>\n",
       "    </tr>\n",
       "  </thead>\n",
       "  <tbody>\n",
       "    <tr>\n",
       "      <th>0</th>\n",
       "      <td>Grand Theft Auto V</td>\n",
       "      <td>Action</td>\n",
       "      <td>Rockstar Games</td>\n",
       "      <td>6.06</td>\n",
       "      <td>9.71</td>\n",
       "      <td>0.60</td>\n",
       "      <td>3.02</td>\n",
       "      <td>19.39</td>\n",
       "    </tr>\n",
       "    <tr>\n",
       "      <th>1</th>\n",
       "      <td>Call of Duty: Black Ops 3</td>\n",
       "      <td>Shooter</td>\n",
       "      <td>Activision</td>\n",
       "      <td>6.18</td>\n",
       "      <td>6.05</td>\n",
       "      <td>0.41</td>\n",
       "      <td>2.44</td>\n",
       "      <td>15.09</td>\n",
       "    </tr>\n",
       "    <tr>\n",
       "      <th>2</th>\n",
       "      <td>Red Dead Redemption 2</td>\n",
       "      <td>Action-Adventure</td>\n",
       "      <td>Rockstar Games</td>\n",
       "      <td>5.26</td>\n",
       "      <td>6.21</td>\n",
       "      <td>0.21</td>\n",
       "      <td>2.26</td>\n",
       "      <td>13.94</td>\n",
       "    </tr>\n",
       "    <tr>\n",
       "      <th>3</th>\n",
       "      <td>Call of Duty: WWII</td>\n",
       "      <td>Shooter</td>\n",
       "      <td>Activision</td>\n",
       "      <td>4.67</td>\n",
       "      <td>6.21</td>\n",
       "      <td>0.40</td>\n",
       "      <td>2.12</td>\n",
       "      <td>13.40</td>\n",
       "    </tr>\n",
       "    <tr>\n",
       "      <th>4</th>\n",
       "      <td>FIFA 18</td>\n",
       "      <td>Sports</td>\n",
       "      <td>EA Sports</td>\n",
       "      <td>1.27</td>\n",
       "      <td>8.64</td>\n",
       "      <td>0.15</td>\n",
       "      <td>1.73</td>\n",
       "      <td>11.80</td>\n",
       "    </tr>\n",
       "    <tr>\n",
       "      <th>...</th>\n",
       "      <td>...</td>\n",
       "      <td>...</td>\n",
       "      <td>...</td>\n",
       "      <td>...</td>\n",
       "      <td>...</td>\n",
       "      <td>...</td>\n",
       "      <td>...</td>\n",
       "      <td>...</td>\n",
       "    </tr>\n",
       "    <tr>\n",
       "      <th>495</th>\n",
       "      <td>Le Tour de France 2017</td>\n",
       "      <td>Simulation</td>\n",
       "      <td>Focus Home Interactive</td>\n",
       "      <td>0.00</td>\n",
       "      <td>0.06</td>\n",
       "      <td>0.00</td>\n",
       "      <td>0.01</td>\n",
       "      <td>0.07</td>\n",
       "    </tr>\n",
       "    <tr>\n",
       "      <th>496</th>\n",
       "      <td>City Shrouded in Shadow</td>\n",
       "      <td>Action-Adventure</td>\n",
       "      <td>Namco Bandai Games</td>\n",
       "      <td>0.00</td>\n",
       "      <td>0.00</td>\n",
       "      <td>0.07</td>\n",
       "      <td>0.00</td>\n",
       "      <td>0.07</td>\n",
       "    </tr>\n",
       "    <tr>\n",
       "      <th>497</th>\n",
       "      <td>SG/ZH: School Girl/Zombie Hunter</td>\n",
       "      <td>Action</td>\n",
       "      <td>Aksys Games</td>\n",
       "      <td>0.04</td>\n",
       "      <td>0.00</td>\n",
       "      <td>0.02</td>\n",
       "      <td>0.01</td>\n",
       "      <td>0.07</td>\n",
       "    </tr>\n",
       "    <tr>\n",
       "      <th>498</th>\n",
       "      <td>Broken Sword 5: The Serpent's Curse</td>\n",
       "      <td>Adventure</td>\n",
       "      <td>Revolution Software</td>\n",
       "      <td>0.00</td>\n",
       "      <td>0.06</td>\n",
       "      <td>0.00</td>\n",
       "      <td>0.01</td>\n",
       "      <td>0.07</td>\n",
       "    </tr>\n",
       "    <tr>\n",
       "      <th>499</th>\n",
       "      <td>Terraria</td>\n",
       "      <td>Action</td>\n",
       "      <td>505 Games</td>\n",
       "      <td>0.00</td>\n",
       "      <td>0.05</td>\n",
       "      <td>0.01</td>\n",
       "      <td>0.01</td>\n",
       "      <td>0.07</td>\n",
       "    </tr>\n",
       "  </tbody>\n",
       "</table>\n",
       "<p>500 rows × 8 columns</p>\n",
       "</div>"
      ],
      "text/plain": [
       "                                    Game             Genre  \\\n",
       "0                     Grand Theft Auto V            Action   \n",
       "1              Call of Duty: Black Ops 3           Shooter   \n",
       "2                  Red Dead Redemption 2  Action-Adventure   \n",
       "3                     Call of Duty: WWII           Shooter   \n",
       "4                                FIFA 18            Sports   \n",
       "..                                   ...               ...   \n",
       "495               Le Tour de France 2017        Simulation   \n",
       "496              City Shrouded in Shadow  Action-Adventure   \n",
       "497     SG/ZH: School Girl/Zombie Hunter            Action   \n",
       "498  Broken Sword 5: The Serpent's Curse         Adventure   \n",
       "499                             Terraria            Action   \n",
       "\n",
       "                  Publisher  North America  Europe  Japan  Rest of World  \\\n",
       "0            Rockstar Games           6.06    9.71   0.60           3.02   \n",
       "1                Activision           6.18    6.05   0.41           2.44   \n",
       "2            Rockstar Games           5.26    6.21   0.21           2.26   \n",
       "3                Activision           4.67    6.21   0.40           2.12   \n",
       "4                 EA Sports           1.27    8.64   0.15           1.73   \n",
       "..                      ...            ...     ...    ...            ...   \n",
       "495  Focus Home Interactive           0.00    0.06   0.00           0.01   \n",
       "496      Namco Bandai Games           0.00    0.00   0.07           0.00   \n",
       "497             Aksys Games           0.04    0.00   0.02           0.01   \n",
       "498     Revolution Software           0.00    0.06   0.00           0.01   \n",
       "499               505 Games           0.00    0.05   0.01           0.01   \n",
       "\n",
       "     Global  \n",
       "0     19.39  \n",
       "1     15.09  \n",
       "2     13.94  \n",
       "3     13.40  \n",
       "4     11.80  \n",
       "..      ...  \n",
       "495    0.07  \n",
       "496    0.07  \n",
       "497    0.07  \n",
       "498    0.07  \n",
       "499    0.07  \n",
       "\n",
       "[500 rows x 8 columns]"
      ]
     },
     "execution_count": 7,
     "metadata": {},
     "output_type": "execute_result"
    }
   ],
   "source": [
    "data_PS4.to_csv('Dhairya_PS4_GameSales_processed.csv',index=None)\n",
    "data_PS4"
   ]
  },
  {
   "cell_type": "code",
   "execution_count": 8,
   "metadata": {},
   "outputs": [
    {
     "data": {
      "text/html": [
       "<div>\n",
       "<style scoped>\n",
       "    .dataframe tbody tr th:only-of-type {\n",
       "        vertical-align: middle;\n",
       "    }\n",
       "\n",
       "    .dataframe tbody tr th {\n",
       "        vertical-align: top;\n",
       "    }\n",
       "\n",
       "    .dataframe thead th {\n",
       "        text-align: right;\n",
       "    }\n",
       "</style>\n",
       "<table border=\"1\" class=\"dataframe\">\n",
       "  <thead>\n",
       "    <tr style=\"text-align: right;\">\n",
       "      <th></th>\n",
       "      <th>Game</th>\n",
       "      <th>Genre</th>\n",
       "      <th>Publisher</th>\n",
       "      <th>North America</th>\n",
       "      <th>Europe</th>\n",
       "      <th>Japan</th>\n",
       "      <th>Rest of World</th>\n",
       "      <th>Global</th>\n",
       "    </tr>\n",
       "  </thead>\n",
       "  <tbody>\n",
       "    <tr>\n",
       "      <th>0</th>\n",
       "      <td>Grand Theft Auto V</td>\n",
       "      <td>Action</td>\n",
       "      <td>Rockstar Games</td>\n",
       "      <td>4.70</td>\n",
       "      <td>3.25</td>\n",
       "      <td>0.01</td>\n",
       "      <td>0.76</td>\n",
       "      <td>8.72</td>\n",
       "    </tr>\n",
       "    <tr>\n",
       "      <th>1</th>\n",
       "      <td>Call of Duty: Black Ops 3</td>\n",
       "      <td>Shooter</td>\n",
       "      <td>Activision</td>\n",
       "      <td>4.63</td>\n",
       "      <td>2.04</td>\n",
       "      <td>0.02</td>\n",
       "      <td>0.68</td>\n",
       "      <td>7.37</td>\n",
       "    </tr>\n",
       "    <tr>\n",
       "      <th>2</th>\n",
       "      <td>Call of Duty: WWII</td>\n",
       "      <td>Shooter</td>\n",
       "      <td>Activision</td>\n",
       "      <td>3.75</td>\n",
       "      <td>1.91</td>\n",
       "      <td>0.00</td>\n",
       "      <td>0.57</td>\n",
       "      <td>6.23</td>\n",
       "    </tr>\n",
       "    <tr>\n",
       "      <th>3</th>\n",
       "      <td>Red Dead Redemption 2</td>\n",
       "      <td>Action-Adventure</td>\n",
       "      <td>Rockstar Games</td>\n",
       "      <td>3.76</td>\n",
       "      <td>1.47</td>\n",
       "      <td>0.00</td>\n",
       "      <td>0.54</td>\n",
       "      <td>5.77</td>\n",
       "    </tr>\n",
       "    <tr>\n",
       "      <th>4</th>\n",
       "      <td>MineCraft</td>\n",
       "      <td>Misc</td>\n",
       "      <td>Microsoft Studios</td>\n",
       "      <td>3.23</td>\n",
       "      <td>1.71</td>\n",
       "      <td>0.00</td>\n",
       "      <td>0.49</td>\n",
       "      <td>5.43</td>\n",
       "    </tr>\n",
       "    <tr>\n",
       "      <th>...</th>\n",
       "      <td>...</td>\n",
       "      <td>...</td>\n",
       "      <td>...</td>\n",
       "      <td>...</td>\n",
       "      <td>...</td>\n",
       "      <td>...</td>\n",
       "      <td>...</td>\n",
       "      <td>...</td>\n",
       "    </tr>\n",
       "    <tr>\n",
       "      <th>495</th>\n",
       "      <td>Metro Exodus</td>\n",
       "      <td>Shooter</td>\n",
       "      <td>Deep Silver</td>\n",
       "      <td>0.00</td>\n",
       "      <td>0.00</td>\n",
       "      <td>0.00</td>\n",
       "      <td>0.00</td>\n",
       "      <td>0.00</td>\n",
       "    </tr>\n",
       "    <tr>\n",
       "      <th>496</th>\n",
       "      <td>Anthem</td>\n",
       "      <td>Role-Playing</td>\n",
       "      <td>Electronic Arts</td>\n",
       "      <td>0.00</td>\n",
       "      <td>0.00</td>\n",
       "      <td>0.00</td>\n",
       "      <td>0.00</td>\n",
       "      <td>0.00</td>\n",
       "    </tr>\n",
       "    <tr>\n",
       "      <th>497</th>\n",
       "      <td>AereA</td>\n",
       "      <td>Role-Playing</td>\n",
       "      <td>Soedesco</td>\n",
       "      <td>0.00</td>\n",
       "      <td>0.00</td>\n",
       "      <td>0.00</td>\n",
       "      <td>0.00</td>\n",
       "      <td>0.00</td>\n",
       "    </tr>\n",
       "    <tr>\n",
       "      <th>498</th>\n",
       "      <td>Moons Of Madness</td>\n",
       "      <td>Role-Playing</td>\n",
       "      <td>Unknown</td>\n",
       "      <td>0.00</td>\n",
       "      <td>0.00</td>\n",
       "      <td>0.00</td>\n",
       "      <td>0.00</td>\n",
       "      <td>0.00</td>\n",
       "    </tr>\n",
       "    <tr>\n",
       "      <th>499</th>\n",
       "      <td>Iron Harvest</td>\n",
       "      <td>Strategy</td>\n",
       "      <td>Unknown</td>\n",
       "      <td>0.00</td>\n",
       "      <td>0.00</td>\n",
       "      <td>0.00</td>\n",
       "      <td>0.00</td>\n",
       "      <td>0.00</td>\n",
       "    </tr>\n",
       "  </tbody>\n",
       "</table>\n",
       "<p>500 rows × 8 columns</p>\n",
       "</div>"
      ],
      "text/plain": [
       "                          Game             Genre          Publisher  \\\n",
       "0           Grand Theft Auto V            Action     Rockstar Games   \n",
       "1    Call of Duty: Black Ops 3           Shooter         Activision   \n",
       "2           Call of Duty: WWII           Shooter         Activision   \n",
       "3        Red Dead Redemption 2  Action-Adventure     Rockstar Games   \n",
       "4                    MineCraft              Misc  Microsoft Studios   \n",
       "..                         ...               ...                ...   \n",
       "495               Metro Exodus           Shooter        Deep Silver   \n",
       "496                     Anthem      Role-Playing    Electronic Arts   \n",
       "497                      AereA      Role-Playing           Soedesco   \n",
       "498           Moons Of Madness      Role-Playing            Unknown   \n",
       "499               Iron Harvest          Strategy            Unknown   \n",
       "\n",
       "     North America  Europe  Japan  Rest of World  Global  \n",
       "0             4.70    3.25   0.01           0.76    8.72  \n",
       "1             4.63    2.04   0.02           0.68    7.37  \n",
       "2             3.75    1.91   0.00           0.57    6.23  \n",
       "3             3.76    1.47   0.00           0.54    5.77  \n",
       "4             3.23    1.71   0.00           0.49    5.43  \n",
       "..             ...     ...    ...            ...     ...  \n",
       "495           0.00    0.00   0.00           0.00    0.00  \n",
       "496           0.00    0.00   0.00           0.00    0.00  \n",
       "497           0.00    0.00   0.00           0.00    0.00  \n",
       "498           0.00    0.00   0.00           0.00    0.00  \n",
       "499           0.00    0.00   0.00           0.00    0.00  \n",
       "\n",
       "[500 rows x 8 columns]"
      ]
     },
     "execution_count": 8,
     "metadata": {},
     "output_type": "execute_result"
    }
   ],
   "source": [
    "data_XBOXONE.to_csv('Dhairya_XBOX_GameSales_processed.csv',index=None)\n",
    "data_XBOXONE"
   ]
  },
  {
   "cell_type": "markdown",
   "metadata": {},
   "source": [
    "## ***3) Data Wrangling***"
   ]
  },
  {
   "cell_type": "code",
   "execution_count": 9,
   "metadata": {},
   "outputs": [],
   "source": [
    "df_Ps4_genre =(data_PS4.groupby(['Genre']).sum()\n",
    "               \n",
    "               .sort_values(by ='Genre',ascending=False)\n",
    "              )\n",
    "df_XBOX_genre = (data_XBOXONE.groupby(['Genre']).sum()\n",
    "                 \n",
    "                 .sort_values(by ='Global',ascending=False)\n",
    "              )"
   ]
  },
  {
   "cell_type": "code",
   "execution_count": 10,
   "metadata": {},
   "outputs": [
    {
     "data": {
      "text/html": [
       "<div>\n",
       "<style scoped>\n",
       "    .dataframe tbody tr th:only-of-type {\n",
       "        vertical-align: middle;\n",
       "    }\n",
       "\n",
       "    .dataframe tbody tr th {\n",
       "        vertical-align: top;\n",
       "    }\n",
       "\n",
       "    .dataframe thead th {\n",
       "        text-align: right;\n",
       "    }\n",
       "</style>\n",
       "<table border=\"1\" class=\"dataframe\">\n",
       "  <thead>\n",
       "    <tr style=\"text-align: right;\">\n",
       "      <th></th>\n",
       "      <th>North America</th>\n",
       "      <th>Europe</th>\n",
       "      <th>Japan</th>\n",
       "      <th>Rest of World</th>\n",
       "      <th>Global</th>\n",
       "    </tr>\n",
       "    <tr>\n",
       "      <th>Genre</th>\n",
       "      <th></th>\n",
       "      <th></th>\n",
       "      <th></th>\n",
       "      <th></th>\n",
       "      <th></th>\n",
       "    </tr>\n",
       "  </thead>\n",
       "  <tbody>\n",
       "    <tr>\n",
       "      <th>Shooter</th>\n",
       "      <td>57.34</td>\n",
       "      <td>26.18</td>\n",
       "      <td>0.20</td>\n",
       "      <td>8.52</td>\n",
       "      <td>92.21</td>\n",
       "    </tr>\n",
       "    <tr>\n",
       "      <th>Action</th>\n",
       "      <td>30.56</td>\n",
       "      <td>15.23</td>\n",
       "      <td>0.08</td>\n",
       "      <td>4.58</td>\n",
       "      <td>50.51</td>\n",
       "    </tr>\n",
       "    <tr>\n",
       "      <th>Sports</th>\n",
       "      <td>25.61</td>\n",
       "      <td>12.91</td>\n",
       "      <td>0.02</td>\n",
       "      <td>3.86</td>\n",
       "      <td>42.43</td>\n",
       "    </tr>\n",
       "    <tr>\n",
       "      <th>Racing</th>\n",
       "      <td>8.50</td>\n",
       "      <td>7.91</td>\n",
       "      <td>0.09</td>\n",
       "      <td>1.52</td>\n",
       "      <td>17.97</td>\n",
       "    </tr>\n",
       "    <tr>\n",
       "      <th>Action-Adventure</th>\n",
       "      <td>10.43</td>\n",
       "      <td>5.49</td>\n",
       "      <td>0.01</td>\n",
       "      <td>1.58</td>\n",
       "      <td>17.47</td>\n",
       "    </tr>\n",
       "    <tr>\n",
       "      <th>Role-Playing</th>\n",
       "      <td>9.90</td>\n",
       "      <td>4.68</td>\n",
       "      <td>0.04</td>\n",
       "      <td>1.46</td>\n",
       "      <td>16.06</td>\n",
       "    </tr>\n",
       "    <tr>\n",
       "      <th>Misc</th>\n",
       "      <td>5.24</td>\n",
       "      <td>2.85</td>\n",
       "      <td>0.01</td>\n",
       "      <td>0.80</td>\n",
       "      <td>8.89</td>\n",
       "    </tr>\n",
       "    <tr>\n",
       "      <th>Fighting</th>\n",
       "      <td>4.40</td>\n",
       "      <td>1.30</td>\n",
       "      <td>0.01</td>\n",
       "      <td>0.59</td>\n",
       "      <td>6.30</td>\n",
       "    </tr>\n",
       "    <tr>\n",
       "      <th>Adventure</th>\n",
       "      <td>2.68</td>\n",
       "      <td>1.70</td>\n",
       "      <td>0.03</td>\n",
       "      <td>0.42</td>\n",
       "      <td>4.82</td>\n",
       "    </tr>\n",
       "    <tr>\n",
       "      <th>Music</th>\n",
       "      <td>3.18</td>\n",
       "      <td>0.78</td>\n",
       "      <td>0.00</td>\n",
       "      <td>0.43</td>\n",
       "      <td>4.41</td>\n",
       "    </tr>\n",
       "    <tr>\n",
       "      <th>Platform</th>\n",
       "      <td>1.53</td>\n",
       "      <td>0.80</td>\n",
       "      <td>0.00</td>\n",
       "      <td>0.25</td>\n",
       "      <td>2.57</td>\n",
       "    </tr>\n",
       "    <tr>\n",
       "      <th>Simulation</th>\n",
       "      <td>1.52</td>\n",
       "      <td>0.70</td>\n",
       "      <td>0.00</td>\n",
       "      <td>0.22</td>\n",
       "      <td>2.50</td>\n",
       "    </tr>\n",
       "    <tr>\n",
       "      <th>MMO</th>\n",
       "      <td>0.95</td>\n",
       "      <td>0.42</td>\n",
       "      <td>0.00</td>\n",
       "      <td>0.14</td>\n",
       "      <td>1.52</td>\n",
       "    </tr>\n",
       "    <tr>\n",
       "      <th>Strategy</th>\n",
       "      <td>0.68</td>\n",
       "      <td>0.17</td>\n",
       "      <td>0.00</td>\n",
       "      <td>0.09</td>\n",
       "      <td>0.93</td>\n",
       "    </tr>\n",
       "    <tr>\n",
       "      <th>Puzzle</th>\n",
       "      <td>0.16</td>\n",
       "      <td>0.04</td>\n",
       "      <td>0.00</td>\n",
       "      <td>0.03</td>\n",
       "      <td>0.23</td>\n",
       "    </tr>\n",
       "    <tr>\n",
       "      <th>Visual Novel</th>\n",
       "      <td>0.00</td>\n",
       "      <td>0.00</td>\n",
       "      <td>0.02</td>\n",
       "      <td>0.00</td>\n",
       "      <td>0.02</td>\n",
       "    </tr>\n",
       "  </tbody>\n",
       "</table>\n",
       "</div>"
      ],
      "text/plain": [
       "                  North America  Europe  Japan  Rest of World  Global\n",
       "Genre                                                                \n",
       "Shooter                   57.34   26.18   0.20           8.52   92.21\n",
       "Action                    30.56   15.23   0.08           4.58   50.51\n",
       "Sports                    25.61   12.91   0.02           3.86   42.43\n",
       "Racing                     8.50    7.91   0.09           1.52   17.97\n",
       "Action-Adventure          10.43    5.49   0.01           1.58   17.47\n",
       "Role-Playing               9.90    4.68   0.04           1.46   16.06\n",
       "Misc                       5.24    2.85   0.01           0.80    8.89\n",
       "Fighting                   4.40    1.30   0.01           0.59    6.30\n",
       "Adventure                  2.68    1.70   0.03           0.42    4.82\n",
       "Music                      3.18    0.78   0.00           0.43    4.41\n",
       "Platform                   1.53    0.80   0.00           0.25    2.57\n",
       "Simulation                 1.52    0.70   0.00           0.22    2.50\n",
       "MMO                        0.95    0.42   0.00           0.14    1.52\n",
       "Strategy                   0.68    0.17   0.00           0.09    0.93\n",
       "Puzzle                     0.16    0.04   0.00           0.03    0.23\n",
       "Visual Novel               0.00    0.00   0.02           0.00    0.02"
      ]
     },
     "execution_count": 10,
     "metadata": {},
     "output_type": "execute_result"
    }
   ],
   "source": [
    "(df_XBOX_genre)"
   ]
  },
  {
   "cell_type": "code",
   "execution_count": 11,
   "metadata": {},
   "outputs": [
    {
     "data": {
      "text/html": [
       "<div>\n",
       "<style scoped>\n",
       "    .dataframe tbody tr th:only-of-type {\n",
       "        vertical-align: middle;\n",
       "    }\n",
       "\n",
       "    .dataframe tbody tr th {\n",
       "        vertical-align: top;\n",
       "    }\n",
       "\n",
       "    .dataframe thead th {\n",
       "        text-align: right;\n",
       "    }\n",
       "</style>\n",
       "<table border=\"1\" class=\"dataframe\">\n",
       "  <thead>\n",
       "    <tr style=\"text-align: right;\">\n",
       "      <th></th>\n",
       "      <th>North America</th>\n",
       "      <th>Europe</th>\n",
       "      <th>Japan</th>\n",
       "      <th>Rest of World</th>\n",
       "      <th>Global</th>\n",
       "    </tr>\n",
       "    <tr>\n",
       "      <th>Genre</th>\n",
       "      <th></th>\n",
       "      <th></th>\n",
       "      <th></th>\n",
       "      <th></th>\n",
       "      <th></th>\n",
       "    </tr>\n",
       "  </thead>\n",
       "  <tbody>\n",
       "    <tr>\n",
       "      <th>Visual Novel</th>\n",
       "      <td>0.20</td>\n",
       "      <td>0.02</td>\n",
       "      <td>0.08</td>\n",
       "      <td>0.05</td>\n",
       "      <td>0.35</td>\n",
       "    </tr>\n",
       "    <tr>\n",
       "      <th>Strategy</th>\n",
       "      <td>0.33</td>\n",
       "      <td>0.18</td>\n",
       "      <td>0.21</td>\n",
       "      <td>0.11</td>\n",
       "      <td>0.81</td>\n",
       "    </tr>\n",
       "    <tr>\n",
       "      <th>Sports</th>\n",
       "      <td>33.14</td>\n",
       "      <td>42.55</td>\n",
       "      <td>1.77</td>\n",
       "      <td>14.81</td>\n",
       "      <td>92.28</td>\n",
       "    </tr>\n",
       "    <tr>\n",
       "      <th>Simulation</th>\n",
       "      <td>1.35</td>\n",
       "      <td>2.03</td>\n",
       "      <td>0.25</td>\n",
       "      <td>0.67</td>\n",
       "      <td>4.28</td>\n",
       "    </tr>\n",
       "    <tr>\n",
       "      <th>Shooter</th>\n",
       "      <td>50.22</td>\n",
       "      <td>58.60</td>\n",
       "      <td>4.37</td>\n",
       "      <td>21.42</td>\n",
       "      <td>134.57</td>\n",
       "    </tr>\n",
       "    <tr>\n",
       "      <th>Role-Playing</th>\n",
       "      <td>21.88</td>\n",
       "      <td>22.30</td>\n",
       "      <td>8.88</td>\n",
       "      <td>8.84</td>\n",
       "      <td>61.83</td>\n",
       "    </tr>\n",
       "    <tr>\n",
       "      <th>Racing</th>\n",
       "      <td>5.65</td>\n",
       "      <td>14.68</td>\n",
       "      <td>0.76</td>\n",
       "      <td>3.74</td>\n",
       "      <td>24.91</td>\n",
       "    </tr>\n",
       "    <tr>\n",
       "      <th>Puzzle</th>\n",
       "      <td>0.16</td>\n",
       "      <td>0.12</td>\n",
       "      <td>0.00</td>\n",
       "      <td>0.06</td>\n",
       "      <td>0.33</td>\n",
       "    </tr>\n",
       "    <tr>\n",
       "      <th>Platform</th>\n",
       "      <td>5.35</td>\n",
       "      <td>8.88</td>\n",
       "      <td>0.66</td>\n",
       "      <td>2.73</td>\n",
       "      <td>17.63</td>\n",
       "    </tr>\n",
       "    <tr>\n",
       "      <th>Party</th>\n",
       "      <td>0.05</td>\n",
       "      <td>0.47</td>\n",
       "      <td>0.00</td>\n",
       "      <td>0.09</td>\n",
       "      <td>0.61</td>\n",
       "    </tr>\n",
       "    <tr>\n",
       "      <th>Music</th>\n",
       "      <td>2.33</td>\n",
       "      <td>1.62</td>\n",
       "      <td>0.13</td>\n",
       "      <td>0.82</td>\n",
       "      <td>4.90</td>\n",
       "    </tr>\n",
       "    <tr>\n",
       "      <th>Misc</th>\n",
       "      <td>3.36</td>\n",
       "      <td>6.02</td>\n",
       "      <td>0.80</td>\n",
       "      <td>1.80</td>\n",
       "      <td>11.94</td>\n",
       "    </tr>\n",
       "    <tr>\n",
       "      <th>MMO</th>\n",
       "      <td>1.32</td>\n",
       "      <td>1.45</td>\n",
       "      <td>0.20</td>\n",
       "      <td>0.55</td>\n",
       "      <td>3.52</td>\n",
       "    </tr>\n",
       "    <tr>\n",
       "      <th>Fighting</th>\n",
       "      <td>8.56</td>\n",
       "      <td>6.10</td>\n",
       "      <td>1.44</td>\n",
       "      <td>2.97</td>\n",
       "      <td>19.10</td>\n",
       "    </tr>\n",
       "    <tr>\n",
       "      <th>Adventure</th>\n",
       "      <td>4.71</td>\n",
       "      <td>6.05</td>\n",
       "      <td>1.45</td>\n",
       "      <td>2.08</td>\n",
       "      <td>14.28</td>\n",
       "    </tr>\n",
       "    <tr>\n",
       "      <th>Action-Adventure</th>\n",
       "      <td>22.27</td>\n",
       "      <td>27.74</td>\n",
       "      <td>1.93</td>\n",
       "      <td>9.81</td>\n",
       "      <td>61.73</td>\n",
       "    </tr>\n",
       "    <tr>\n",
       "      <th>Action</th>\n",
       "      <td>47.42</td>\n",
       "      <td>57.20</td>\n",
       "      <td>9.90</td>\n",
       "      <td>20.54</td>\n",
       "      <td>135.15</td>\n",
       "    </tr>\n",
       "  </tbody>\n",
       "</table>\n",
       "</div>"
      ],
      "text/plain": [
       "                  North America  Europe  Japan  Rest of World  Global\n",
       "Genre                                                                \n",
       "Visual Novel               0.20    0.02   0.08           0.05    0.35\n",
       "Strategy                   0.33    0.18   0.21           0.11    0.81\n",
       "Sports                    33.14   42.55   1.77          14.81   92.28\n",
       "Simulation                 1.35    2.03   0.25           0.67    4.28\n",
       "Shooter                   50.22   58.60   4.37          21.42  134.57\n",
       "Role-Playing              21.88   22.30   8.88           8.84   61.83\n",
       "Racing                     5.65   14.68   0.76           3.74   24.91\n",
       "Puzzle                     0.16    0.12   0.00           0.06    0.33\n",
       "Platform                   5.35    8.88   0.66           2.73   17.63\n",
       "Party                      0.05    0.47   0.00           0.09    0.61\n",
       "Music                      2.33    1.62   0.13           0.82    4.90\n",
       "Misc                       3.36    6.02   0.80           1.80   11.94\n",
       "MMO                        1.32    1.45   0.20           0.55    3.52\n",
       "Fighting                   8.56    6.10   1.44           2.97   19.10\n",
       "Adventure                  4.71    6.05   1.45           2.08   14.28\n",
       "Action-Adventure          22.27   27.74   1.93           9.81   61.73\n",
       "Action                    47.42   57.20   9.90          20.54  135.15"
      ]
     },
     "execution_count": 11,
     "metadata": {},
     "output_type": "execute_result"
    }
   ],
   "source": [
    "(df_Ps4_genre)"
   ]
  },
  {
   "cell_type": "code",
   "execution_count": 12,
   "metadata": {},
   "outputs": [],
   "source": [
    "df_Ps4_Publisher =(data_PS4.groupby(['Publisher']).sum()\n",
    " \n",
    "               .sort_values(by ='Publisher',ascending=True)\n",
    "              )\n",
    "df_XBOX_Publisher = (data_XBOXONE.groupby(['Publisher']).sum()\n",
    "                     \n",
    "                 .sort_values(by ='Global',ascending=False)\n",
    "              )"
   ]
  },
  {
   "cell_type": "code",
   "execution_count": 13,
   "metadata": {},
   "outputs": [
    {
     "data": {
      "text/html": [
       "<div>\n",
       "<style scoped>\n",
       "    .dataframe tbody tr th:only-of-type {\n",
       "        vertical-align: middle;\n",
       "    }\n",
       "\n",
       "    .dataframe tbody tr th {\n",
       "        vertical-align: top;\n",
       "    }\n",
       "\n",
       "    .dataframe thead th {\n",
       "        text-align: right;\n",
       "    }\n",
       "</style>\n",
       "<table border=\"1\" class=\"dataframe\">\n",
       "  <thead>\n",
       "    <tr style=\"text-align: right;\">\n",
       "      <th></th>\n",
       "      <th>North America</th>\n",
       "      <th>Europe</th>\n",
       "      <th>Japan</th>\n",
       "      <th>Rest of World</th>\n",
       "      <th>Global</th>\n",
       "    </tr>\n",
       "    <tr>\n",
       "      <th>Publisher</th>\n",
       "      <th></th>\n",
       "      <th></th>\n",
       "      <th></th>\n",
       "      <th></th>\n",
       "      <th></th>\n",
       "    </tr>\n",
       "  </thead>\n",
       "  <tbody>\n",
       "    <tr>\n",
       "      <th>2K Games</th>\n",
       "      <td>2.93</td>\n",
       "      <td>3.62</td>\n",
       "      <td>0.18</td>\n",
       "      <td>1.28</td>\n",
       "      <td>8.03</td>\n",
       "    </tr>\n",
       "    <tr>\n",
       "      <th>2K Sports</th>\n",
       "      <td>10.22</td>\n",
       "      <td>3.96</td>\n",
       "      <td>0.14</td>\n",
       "      <td>3.05</td>\n",
       "      <td>17.36</td>\n",
       "    </tr>\n",
       "    <tr>\n",
       "      <th>505 Games</th>\n",
       "      <td>1.06</td>\n",
       "      <td>2.20</td>\n",
       "      <td>0.07</td>\n",
       "      <td>0.61</td>\n",
       "      <td>3.95</td>\n",
       "    </tr>\n",
       "    <tr>\n",
       "      <th>Acquire</th>\n",
       "      <td>0.09</td>\n",
       "      <td>0.00</td>\n",
       "      <td>0.02</td>\n",
       "      <td>0.02</td>\n",
       "      <td>0.13</td>\n",
       "    </tr>\n",
       "    <tr>\n",
       "      <th>Activision</th>\n",
       "      <td>28.13</td>\n",
       "      <td>30.93</td>\n",
       "      <td>1.65</td>\n",
       "      <td>11.69</td>\n",
       "      <td>72.32</td>\n",
       "    </tr>\n",
       "    <tr>\n",
       "      <th>...</th>\n",
       "      <td>...</td>\n",
       "      <td>...</td>\n",
       "      <td>...</td>\n",
       "      <td>...</td>\n",
       "      <td>...</td>\n",
       "    </tr>\n",
       "    <tr>\n",
       "      <th>Ubisoft</th>\n",
       "      <td>18.43</td>\n",
       "      <td>29.37</td>\n",
       "      <td>1.86</td>\n",
       "      <td>9.18</td>\n",
       "      <td>58.89</td>\n",
       "    </tr>\n",
       "    <tr>\n",
       "      <th>Warner Bros. Interactive</th>\n",
       "      <td>2.83</td>\n",
       "      <td>2.42</td>\n",
       "      <td>0.24</td>\n",
       "      <td>1.06</td>\n",
       "      <td>6.56</td>\n",
       "    </tr>\n",
       "    <tr>\n",
       "      <th>Warner Bros. Interactive Entertainment</th>\n",
       "      <td>10.16</td>\n",
       "      <td>12.88</td>\n",
       "      <td>0.30</td>\n",
       "      <td>4.52</td>\n",
       "      <td>27.83</td>\n",
       "    </tr>\n",
       "    <tr>\n",
       "      <th>Xseed Games</th>\n",
       "      <td>0.06</td>\n",
       "      <td>0.00</td>\n",
       "      <td>0.01</td>\n",
       "      <td>0.01</td>\n",
       "      <td>0.08</td>\n",
       "    </tr>\n",
       "    <tr>\n",
       "      <th>Yacht Club Games</th>\n",
       "      <td>0.08</td>\n",
       "      <td>0.04</td>\n",
       "      <td>0.00</td>\n",
       "      <td>0.02</td>\n",
       "      <td>0.14</td>\n",
       "    </tr>\n",
       "  </tbody>\n",
       "</table>\n",
       "<p>78 rows × 5 columns</p>\n",
       "</div>"
      ],
      "text/plain": [
       "                                        North America  Europe  Japan  \\\n",
       "Publisher                                                              \n",
       "2K Games                                         2.93    3.62   0.18   \n",
       "2K Sports                                       10.22    3.96   0.14   \n",
       "505 Games                                        1.06    2.20   0.07   \n",
       "Acquire                                          0.09    0.00   0.02   \n",
       "Activision                                      28.13   30.93   1.65   \n",
       "...                                               ...     ...    ...   \n",
       "Ubisoft                                         18.43   29.37   1.86   \n",
       "Warner Bros. Interactive                         2.83    2.42   0.24   \n",
       "Warner Bros. Interactive Entertainment          10.16   12.88   0.30   \n",
       "Xseed Games                                      0.06    0.00   0.01   \n",
       "Yacht Club Games                                 0.08    0.04   0.00   \n",
       "\n",
       "                                        Rest of World  Global  \n",
       "Publisher                                                      \n",
       "2K Games                                         1.28    8.03  \n",
       "2K Sports                                        3.05   17.36  \n",
       "505 Games                                        0.61    3.95  \n",
       "Acquire                                          0.02    0.13  \n",
       "Activision                                      11.69   72.32  \n",
       "...                                               ...     ...  \n",
       "Ubisoft                                          9.18   58.89  \n",
       "Warner Bros. Interactive                         1.06    6.56  \n",
       "Warner Bros. Interactive Entertainment           4.52   27.83  \n",
       "Xseed Games                                      0.01    0.08  \n",
       "Yacht Club Games                                 0.02    0.14  \n",
       "\n",
       "[78 rows x 5 columns]"
      ]
     },
     "execution_count": 13,
     "metadata": {},
     "output_type": "execute_result"
    }
   ],
   "source": [
    "df_Ps4_Publisher"
   ]
  },
  {
   "cell_type": "code",
   "execution_count": 14,
   "metadata": {},
   "outputs": [
    {
     "data": {
      "text/html": [
       "<div>\n",
       "<style scoped>\n",
       "    .dataframe tbody tr th:only-of-type {\n",
       "        vertical-align: middle;\n",
       "    }\n",
       "\n",
       "    .dataframe tbody tr th {\n",
       "        vertical-align: top;\n",
       "    }\n",
       "\n",
       "    .dataframe thead th {\n",
       "        text-align: right;\n",
       "    }\n",
       "</style>\n",
       "<table border=\"1\" class=\"dataframe\">\n",
       "  <thead>\n",
       "    <tr style=\"text-align: right;\">\n",
       "      <th></th>\n",
       "      <th>North America</th>\n",
       "      <th>Europe</th>\n",
       "      <th>Japan</th>\n",
       "      <th>Rest of World</th>\n",
       "      <th>Global</th>\n",
       "    </tr>\n",
       "    <tr>\n",
       "      <th>Publisher</th>\n",
       "      <th></th>\n",
       "      <th></th>\n",
       "      <th></th>\n",
       "      <th></th>\n",
       "      <th></th>\n",
       "    </tr>\n",
       "  </thead>\n",
       "  <tbody>\n",
       "    <tr>\n",
       "      <th>Microsoft Studios</th>\n",
       "      <td>25.59</td>\n",
       "      <td>14.79</td>\n",
       "      <td>0.22</td>\n",
       "      <td>3.99</td>\n",
       "      <td>44.61</td>\n",
       "    </tr>\n",
       "    <tr>\n",
       "      <th>Activision</th>\n",
       "      <td>24.20</td>\n",
       "      <td>10.26</td>\n",
       "      <td>0.03</td>\n",
       "      <td>3.53</td>\n",
       "      <td>38.02</td>\n",
       "    </tr>\n",
       "    <tr>\n",
       "      <th>Ubisoft</th>\n",
       "      <td>18.68</td>\n",
       "      <td>10.04</td>\n",
       "      <td>0.02</td>\n",
       "      <td>2.87</td>\n",
       "      <td>31.57</td>\n",
       "    </tr>\n",
       "    <tr>\n",
       "      <th>Electronic Arts</th>\n",
       "      <td>17.35</td>\n",
       "      <td>10.22</td>\n",
       "      <td>0.09</td>\n",
       "      <td>2.70</td>\n",
       "      <td>30.37</td>\n",
       "    </tr>\n",
       "    <tr>\n",
       "      <th>EA Sports</th>\n",
       "      <td>13.62</td>\n",
       "      <td>7.01</td>\n",
       "      <td>0.00</td>\n",
       "      <td>2.05</td>\n",
       "      <td>22.69</td>\n",
       "    </tr>\n",
       "    <tr>\n",
       "      <th>...</th>\n",
       "      <td>...</td>\n",
       "      <td>...</td>\n",
       "      <td>...</td>\n",
       "      <td>...</td>\n",
       "      <td>...</td>\n",
       "    </tr>\n",
       "    <tr>\n",
       "      <th>Level 5</th>\n",
       "      <td>0.00</td>\n",
       "      <td>0.00</td>\n",
       "      <td>0.00</td>\n",
       "      <td>0.00</td>\n",
       "      <td>0.00</td>\n",
       "    </tr>\n",
       "    <tr>\n",
       "      <th>Ice-pick Lodge</th>\n",
       "      <td>0.00</td>\n",
       "      <td>0.00</td>\n",
       "      <td>0.00</td>\n",
       "      <td>0.00</td>\n",
       "      <td>0.00</td>\n",
       "    </tr>\n",
       "    <tr>\n",
       "      <th>Experience Inc.</th>\n",
       "      <td>0.00</td>\n",
       "      <td>0.00</td>\n",
       "      <td>0.00</td>\n",
       "      <td>0.00</td>\n",
       "      <td>0.00</td>\n",
       "    </tr>\n",
       "    <tr>\n",
       "      <th>BioWare</th>\n",
       "      <td>0.00</td>\n",
       "      <td>0.00</td>\n",
       "      <td>0.00</td>\n",
       "      <td>0.00</td>\n",
       "      <td>0.00</td>\n",
       "    </tr>\n",
       "    <tr>\n",
       "      <th>Yacht Club Games</th>\n",
       "      <td>0.00</td>\n",
       "      <td>0.00</td>\n",
       "      <td>0.00</td>\n",
       "      <td>0.00</td>\n",
       "      <td>0.00</td>\n",
       "    </tr>\n",
       "  </tbody>\n",
       "</table>\n",
       "<p>97 rows × 5 columns</p>\n",
       "</div>"
      ],
      "text/plain": [
       "                   North America  Europe  Japan  Rest of World  Global\n",
       "Publisher                                                             \n",
       "Microsoft Studios          25.59   14.79   0.22           3.99   44.61\n",
       "Activision                 24.20   10.26   0.03           3.53   38.02\n",
       "Ubisoft                    18.68   10.04   0.02           2.87   31.57\n",
       "Electronic Arts            17.35   10.22   0.09           2.70   30.37\n",
       "EA Sports                  13.62    7.01   0.00           2.05   22.69\n",
       "...                          ...     ...    ...            ...     ...\n",
       "Level 5                     0.00    0.00   0.00           0.00    0.00\n",
       "Ice-pick Lodge              0.00    0.00   0.00           0.00    0.00\n",
       "Experience Inc.             0.00    0.00   0.00           0.00    0.00\n",
       "BioWare                     0.00    0.00   0.00           0.00    0.00\n",
       "Yacht Club Games            0.00    0.00   0.00           0.00    0.00\n",
       "\n",
       "[97 rows x 5 columns]"
      ]
     },
     "execution_count": 14,
     "metadata": {},
     "output_type": "execute_result"
    }
   ],
   "source": [
    "df_XBOX_Publisher"
   ]
  },
  {
   "cell_type": "markdown",
   "metadata": {},
   "source": [
    "### ***Sales and count of titles for Genres.***"
   ]
  },
  {
   "cell_type": "code",
   "execution_count": 15,
   "metadata": {
    "tags": []
   },
   "outputs": [
    {
     "data": {
      "text/html": [
       "<div>\n",
       "<style scoped>\n",
       "    .dataframe tbody tr th:only-of-type {\n",
       "        vertical-align: middle;\n",
       "    }\n",
       "\n",
       "    .dataframe tbody tr th {\n",
       "        vertical-align: top;\n",
       "    }\n",
       "\n",
       "    .dataframe thead th {\n",
       "        text-align: right;\n",
       "    }\n",
       "</style>\n",
       "<table border=\"1\" class=\"dataframe\">\n",
       "  <thead>\n",
       "    <tr style=\"text-align: right;\">\n",
       "      <th></th>\n",
       "      <th>North America</th>\n",
       "      <th>Europe</th>\n",
       "      <th>Japan</th>\n",
       "      <th>Rest of World</th>\n",
       "      <th>Global</th>\n",
       "      <th>Count</th>\n",
       "    </tr>\n",
       "    <tr>\n",
       "      <th>Genre</th>\n",
       "      <th></th>\n",
       "      <th></th>\n",
       "      <th></th>\n",
       "      <th></th>\n",
       "      <th></th>\n",
       "      <th></th>\n",
       "    </tr>\n",
       "  </thead>\n",
       "  <tbody>\n",
       "    <tr>\n",
       "      <th>Visual Novel</th>\n",
       "      <td>0.20</td>\n",
       "      <td>0.02</td>\n",
       "      <td>0.08</td>\n",
       "      <td>0.05</td>\n",
       "      <td>0.35</td>\n",
       "      <td>3</td>\n",
       "    </tr>\n",
       "    <tr>\n",
       "      <th>Strategy</th>\n",
       "      <td>0.33</td>\n",
       "      <td>0.18</td>\n",
       "      <td>0.21</td>\n",
       "      <td>0.11</td>\n",
       "      <td>0.81</td>\n",
       "      <td>6</td>\n",
       "    </tr>\n",
       "    <tr>\n",
       "      <th>Sports</th>\n",
       "      <td>33.14</td>\n",
       "      <td>42.55</td>\n",
       "      <td>1.77</td>\n",
       "      <td>14.81</td>\n",
       "      <td>92.28</td>\n",
       "      <td>51</td>\n",
       "    </tr>\n",
       "    <tr>\n",
       "      <th>Simulation</th>\n",
       "      <td>1.35</td>\n",
       "      <td>2.03</td>\n",
       "      <td>0.25</td>\n",
       "      <td>0.67</td>\n",
       "      <td>4.28</td>\n",
       "      <td>12</td>\n",
       "    </tr>\n",
       "    <tr>\n",
       "      <th>Shooter</th>\n",
       "      <td>50.22</td>\n",
       "      <td>58.60</td>\n",
       "      <td>4.37</td>\n",
       "      <td>21.42</td>\n",
       "      <td>134.57</td>\n",
       "      <td>58</td>\n",
       "    </tr>\n",
       "    <tr>\n",
       "      <th>Role-Playing</th>\n",
       "      <td>21.88</td>\n",
       "      <td>22.30</td>\n",
       "      <td>8.88</td>\n",
       "      <td>8.84</td>\n",
       "      <td>61.83</td>\n",
       "      <td>69</td>\n",
       "    </tr>\n",
       "    <tr>\n",
       "      <th>Racing</th>\n",
       "      <td>5.65</td>\n",
       "      <td>14.68</td>\n",
       "      <td>0.76</td>\n",
       "      <td>3.74</td>\n",
       "      <td>24.91</td>\n",
       "      <td>35</td>\n",
       "    </tr>\n",
       "    <tr>\n",
       "      <th>Puzzle</th>\n",
       "      <td>0.16</td>\n",
       "      <td>0.12</td>\n",
       "      <td>0.00</td>\n",
       "      <td>0.06</td>\n",
       "      <td>0.33</td>\n",
       "      <td>2</td>\n",
       "    </tr>\n",
       "    <tr>\n",
       "      <th>Platform</th>\n",
       "      <td>5.35</td>\n",
       "      <td>8.88</td>\n",
       "      <td>0.66</td>\n",
       "      <td>2.73</td>\n",
       "      <td>17.63</td>\n",
       "      <td>20</td>\n",
       "    </tr>\n",
       "    <tr>\n",
       "      <th>Party</th>\n",
       "      <td>0.05</td>\n",
       "      <td>0.47</td>\n",
       "      <td>0.00</td>\n",
       "      <td>0.09</td>\n",
       "      <td>0.61</td>\n",
       "      <td>1</td>\n",
       "    </tr>\n",
       "    <tr>\n",
       "      <th>Music</th>\n",
       "      <td>2.33</td>\n",
       "      <td>1.62</td>\n",
       "      <td>0.13</td>\n",
       "      <td>0.82</td>\n",
       "      <td>4.90</td>\n",
       "      <td>13</td>\n",
       "    </tr>\n",
       "    <tr>\n",
       "      <th>Misc</th>\n",
       "      <td>3.36</td>\n",
       "      <td>6.02</td>\n",
       "      <td>0.80</td>\n",
       "      <td>1.80</td>\n",
       "      <td>11.94</td>\n",
       "      <td>13</td>\n",
       "    </tr>\n",
       "    <tr>\n",
       "      <th>MMO</th>\n",
       "      <td>1.32</td>\n",
       "      <td>1.45</td>\n",
       "      <td>0.20</td>\n",
       "      <td>0.55</td>\n",
       "      <td>3.52</td>\n",
       "      <td>6</td>\n",
       "    </tr>\n",
       "    <tr>\n",
       "      <th>Fighting</th>\n",
       "      <td>8.56</td>\n",
       "      <td>6.10</td>\n",
       "      <td>1.44</td>\n",
       "      <td>2.97</td>\n",
       "      <td>19.10</td>\n",
       "      <td>24</td>\n",
       "    </tr>\n",
       "    <tr>\n",
       "      <th>Adventure</th>\n",
       "      <td>4.71</td>\n",
       "      <td>6.05</td>\n",
       "      <td>1.45</td>\n",
       "      <td>2.08</td>\n",
       "      <td>14.28</td>\n",
       "      <td>33</td>\n",
       "    </tr>\n",
       "    <tr>\n",
       "      <th>Action-Adventure</th>\n",
       "      <td>22.27</td>\n",
       "      <td>27.74</td>\n",
       "      <td>1.93</td>\n",
       "      <td>9.81</td>\n",
       "      <td>61.73</td>\n",
       "      <td>31</td>\n",
       "    </tr>\n",
       "    <tr>\n",
       "      <th>Action</th>\n",
       "      <td>47.42</td>\n",
       "      <td>57.20</td>\n",
       "      <td>9.90</td>\n",
       "      <td>20.54</td>\n",
       "      <td>135.15</td>\n",
       "      <td>123</td>\n",
       "    </tr>\n",
       "  </tbody>\n",
       "</table>\n",
       "</div>"
      ],
      "text/plain": [
       "                  North America  Europe  Japan  Rest of World  Global  Count\n",
       "Genre                                                                       \n",
       "Visual Novel               0.20    0.02   0.08           0.05    0.35      3\n",
       "Strategy                   0.33    0.18   0.21           0.11    0.81      6\n",
       "Sports                    33.14   42.55   1.77          14.81   92.28     51\n",
       "Simulation                 1.35    2.03   0.25           0.67    4.28     12\n",
       "Shooter                   50.22   58.60   4.37          21.42  134.57     58\n",
       "Role-Playing              21.88   22.30   8.88           8.84   61.83     69\n",
       "Racing                     5.65   14.68   0.76           3.74   24.91     35\n",
       "Puzzle                     0.16    0.12   0.00           0.06    0.33      2\n",
       "Platform                   5.35    8.88   0.66           2.73   17.63     20\n",
       "Party                      0.05    0.47   0.00           0.09    0.61      1\n",
       "Music                      2.33    1.62   0.13           0.82    4.90     13\n",
       "Misc                       3.36    6.02   0.80           1.80   11.94     13\n",
       "MMO                        1.32    1.45   0.20           0.55    3.52      6\n",
       "Fighting                   8.56    6.10   1.44           2.97   19.10     24\n",
       "Adventure                  4.71    6.05   1.45           2.08   14.28     33\n",
       "Action-Adventure          22.27   27.74   1.93           9.81   61.73     31\n",
       "Action                    47.42   57.20   9.90          20.54  135.15    123"
      ]
     },
     "execution_count": 15,
     "metadata": {},
     "output_type": "execute_result"
    }
   ],
   "source": [
    "temp1 = data_PS4['Genre'].value_counts()\n",
    "PS4_Genre_count =df_Ps4_genre\n",
    "PS4_Genre_count['Count'] = temp1\n",
    "PS4_Genre_count\n"
   ]
  },
  {
   "cell_type": "code",
   "execution_count": 16,
   "metadata": {},
   "outputs": [
    {
     "data": {
      "text/html": [
       "<div>\n",
       "<style scoped>\n",
       "    .dataframe tbody tr th:only-of-type {\n",
       "        vertical-align: middle;\n",
       "    }\n",
       "\n",
       "    .dataframe tbody tr th {\n",
       "        vertical-align: top;\n",
       "    }\n",
       "\n",
       "    .dataframe thead th {\n",
       "        text-align: right;\n",
       "    }\n",
       "</style>\n",
       "<table border=\"1\" class=\"dataframe\">\n",
       "  <thead>\n",
       "    <tr style=\"text-align: right;\">\n",
       "      <th></th>\n",
       "      <th>North America</th>\n",
       "      <th>Europe</th>\n",
       "      <th>Japan</th>\n",
       "      <th>Rest of World</th>\n",
       "      <th>Global</th>\n",
       "      <th>Count</th>\n",
       "    </tr>\n",
       "    <tr>\n",
       "      <th>Genre</th>\n",
       "      <th></th>\n",
       "      <th></th>\n",
       "      <th></th>\n",
       "      <th></th>\n",
       "      <th></th>\n",
       "      <th></th>\n",
       "    </tr>\n",
       "  </thead>\n",
       "  <tbody>\n",
       "    <tr>\n",
       "      <th>Shooter</th>\n",
       "      <td>57.34</td>\n",
       "      <td>26.18</td>\n",
       "      <td>0.20</td>\n",
       "      <td>8.52</td>\n",
       "      <td>92.21</td>\n",
       "      <td>66</td>\n",
       "    </tr>\n",
       "    <tr>\n",
       "      <th>Action</th>\n",
       "      <td>30.56</td>\n",
       "      <td>15.23</td>\n",
       "      <td>0.08</td>\n",
       "      <td>4.58</td>\n",
       "      <td>50.51</td>\n",
       "      <td>114</td>\n",
       "    </tr>\n",
       "    <tr>\n",
       "      <th>Sports</th>\n",
       "      <td>25.61</td>\n",
       "      <td>12.91</td>\n",
       "      <td>0.02</td>\n",
       "      <td>3.86</td>\n",
       "      <td>42.43</td>\n",
       "      <td>58</td>\n",
       "    </tr>\n",
       "    <tr>\n",
       "      <th>Racing</th>\n",
       "      <td>8.50</td>\n",
       "      <td>7.91</td>\n",
       "      <td>0.09</td>\n",
       "      <td>1.52</td>\n",
       "      <td>17.97</td>\n",
       "      <td>45</td>\n",
       "    </tr>\n",
       "    <tr>\n",
       "      <th>Action-Adventure</th>\n",
       "      <td>10.43</td>\n",
       "      <td>5.49</td>\n",
       "      <td>0.01</td>\n",
       "      <td>1.58</td>\n",
       "      <td>17.47</td>\n",
       "      <td>28</td>\n",
       "    </tr>\n",
       "    <tr>\n",
       "      <th>Role-Playing</th>\n",
       "      <td>9.90</td>\n",
       "      <td>4.68</td>\n",
       "      <td>0.04</td>\n",
       "      <td>1.46</td>\n",
       "      <td>16.06</td>\n",
       "      <td>36</td>\n",
       "    </tr>\n",
       "    <tr>\n",
       "      <th>Misc</th>\n",
       "      <td>5.24</td>\n",
       "      <td>2.85</td>\n",
       "      <td>0.01</td>\n",
       "      <td>0.80</td>\n",
       "      <td>8.89</td>\n",
       "      <td>30</td>\n",
       "    </tr>\n",
       "    <tr>\n",
       "      <th>Fighting</th>\n",
       "      <td>4.40</td>\n",
       "      <td>1.30</td>\n",
       "      <td>0.01</td>\n",
       "      <td>0.59</td>\n",
       "      <td>6.30</td>\n",
       "      <td>16</td>\n",
       "    </tr>\n",
       "    <tr>\n",
       "      <th>Adventure</th>\n",
       "      <td>2.68</td>\n",
       "      <td>1.70</td>\n",
       "      <td>0.03</td>\n",
       "      <td>0.42</td>\n",
       "      <td>4.82</td>\n",
       "      <td>35</td>\n",
       "    </tr>\n",
       "    <tr>\n",
       "      <th>Music</th>\n",
       "      <td>3.18</td>\n",
       "      <td>0.78</td>\n",
       "      <td>0.00</td>\n",
       "      <td>0.43</td>\n",
       "      <td>4.41</td>\n",
       "      <td>13</td>\n",
       "    </tr>\n",
       "    <tr>\n",
       "      <th>Platform</th>\n",
       "      <td>1.53</td>\n",
       "      <td>0.80</td>\n",
       "      <td>0.00</td>\n",
       "      <td>0.25</td>\n",
       "      <td>2.57</td>\n",
       "      <td>17</td>\n",
       "    </tr>\n",
       "    <tr>\n",
       "      <th>Simulation</th>\n",
       "      <td>1.52</td>\n",
       "      <td>0.70</td>\n",
       "      <td>0.00</td>\n",
       "      <td>0.22</td>\n",
       "      <td>2.50</td>\n",
       "      <td>19</td>\n",
       "    </tr>\n",
       "    <tr>\n",
       "      <th>MMO</th>\n",
       "      <td>0.95</td>\n",
       "      <td>0.42</td>\n",
       "      <td>0.00</td>\n",
       "      <td>0.14</td>\n",
       "      <td>1.52</td>\n",
       "      <td>2</td>\n",
       "    </tr>\n",
       "    <tr>\n",
       "      <th>Strategy</th>\n",
       "      <td>0.68</td>\n",
       "      <td>0.17</td>\n",
       "      <td>0.00</td>\n",
       "      <td>0.09</td>\n",
       "      <td>0.93</td>\n",
       "      <td>14</td>\n",
       "    </tr>\n",
       "    <tr>\n",
       "      <th>Puzzle</th>\n",
       "      <td>0.16</td>\n",
       "      <td>0.04</td>\n",
       "      <td>0.00</td>\n",
       "      <td>0.03</td>\n",
       "      <td>0.23</td>\n",
       "      <td>5</td>\n",
       "    </tr>\n",
       "    <tr>\n",
       "      <th>Visual Novel</th>\n",
       "      <td>0.00</td>\n",
       "      <td>0.00</td>\n",
       "      <td>0.02</td>\n",
       "      <td>0.00</td>\n",
       "      <td>0.02</td>\n",
       "      <td>2</td>\n",
       "    </tr>\n",
       "  </tbody>\n",
       "</table>\n",
       "</div>"
      ],
      "text/plain": [
       "                  North America  Europe  Japan  Rest of World  Global  Count\n",
       "Genre                                                                       \n",
       "Shooter                   57.34   26.18   0.20           8.52   92.21     66\n",
       "Action                    30.56   15.23   0.08           4.58   50.51    114\n",
       "Sports                    25.61   12.91   0.02           3.86   42.43     58\n",
       "Racing                     8.50    7.91   0.09           1.52   17.97     45\n",
       "Action-Adventure          10.43    5.49   0.01           1.58   17.47     28\n",
       "Role-Playing               9.90    4.68   0.04           1.46   16.06     36\n",
       "Misc                       5.24    2.85   0.01           0.80    8.89     30\n",
       "Fighting                   4.40    1.30   0.01           0.59    6.30     16\n",
       "Adventure                  2.68    1.70   0.03           0.42    4.82     35\n",
       "Music                      3.18    0.78   0.00           0.43    4.41     13\n",
       "Platform                   1.53    0.80   0.00           0.25    2.57     17\n",
       "Simulation                 1.52    0.70   0.00           0.22    2.50     19\n",
       "MMO                        0.95    0.42   0.00           0.14    1.52      2\n",
       "Strategy                   0.68    0.17   0.00           0.09    0.93     14\n",
       "Puzzle                     0.16    0.04   0.00           0.03    0.23      5\n",
       "Visual Novel               0.00    0.00   0.02           0.00    0.02      2"
      ]
     },
     "execution_count": 16,
     "metadata": {},
     "output_type": "execute_result"
    }
   ],
   "source": [
    "temp3 = data_XBOXONE['Genre'].value_counts()\n",
    "XBOX_Genre_count = df_XBOX_genre\n",
    "XBOX_Genre_count['Count'] = temp3\n",
    "XBOX_Genre_count"
   ]
  },
  {
   "cell_type": "markdown",
   "metadata": {},
   "source": [
    "### ***Sales of publishers and no of titles by each Publishers***"
   ]
  },
  {
   "cell_type": "code",
   "execution_count": 17,
   "metadata": {},
   "outputs": [
    {
     "data": {
      "text/html": [
       "<div>\n",
       "<style scoped>\n",
       "    .dataframe tbody tr th:only-of-type {\n",
       "        vertical-align: middle;\n",
       "    }\n",
       "\n",
       "    .dataframe tbody tr th {\n",
       "        vertical-align: top;\n",
       "    }\n",
       "\n",
       "    .dataframe thead th {\n",
       "        text-align: right;\n",
       "    }\n",
       "</style>\n",
       "<table border=\"1\" class=\"dataframe\">\n",
       "  <thead>\n",
       "    <tr style=\"text-align: right;\">\n",
       "      <th></th>\n",
       "      <th>North America</th>\n",
       "      <th>Europe</th>\n",
       "      <th>Japan</th>\n",
       "      <th>Rest of World</th>\n",
       "      <th>Global</th>\n",
       "      <th>Count</th>\n",
       "    </tr>\n",
       "    <tr>\n",
       "      <th>Publisher</th>\n",
       "      <th></th>\n",
       "      <th></th>\n",
       "      <th></th>\n",
       "      <th></th>\n",
       "      <th></th>\n",
       "      <th></th>\n",
       "    </tr>\n",
       "  </thead>\n",
       "  <tbody>\n",
       "    <tr>\n",
       "      <th>2K Games</th>\n",
       "      <td>2.93</td>\n",
       "      <td>3.62</td>\n",
       "      <td>0.18</td>\n",
       "      <td>1.28</td>\n",
       "      <td>8.03</td>\n",
       "      <td>7</td>\n",
       "    </tr>\n",
       "    <tr>\n",
       "      <th>2K Sports</th>\n",
       "      <td>10.22</td>\n",
       "      <td>3.96</td>\n",
       "      <td>0.14</td>\n",
       "      <td>3.05</td>\n",
       "      <td>17.36</td>\n",
       "      <td>7</td>\n",
       "    </tr>\n",
       "    <tr>\n",
       "      <th>505 Games</th>\n",
       "      <td>1.06</td>\n",
       "      <td>2.20</td>\n",
       "      <td>0.07</td>\n",
       "      <td>0.61</td>\n",
       "      <td>3.95</td>\n",
       "      <td>10</td>\n",
       "    </tr>\n",
       "    <tr>\n",
       "      <th>Acquire</th>\n",
       "      <td>0.09</td>\n",
       "      <td>0.00</td>\n",
       "      <td>0.02</td>\n",
       "      <td>0.02</td>\n",
       "      <td>0.13</td>\n",
       "      <td>1</td>\n",
       "    </tr>\n",
       "    <tr>\n",
       "      <th>Activision</th>\n",
       "      <td>28.13</td>\n",
       "      <td>30.93</td>\n",
       "      <td>1.65</td>\n",
       "      <td>11.69</td>\n",
       "      <td>72.32</td>\n",
       "      <td>25</td>\n",
       "    </tr>\n",
       "    <tr>\n",
       "      <th>...</th>\n",
       "      <td>...</td>\n",
       "      <td>...</td>\n",
       "      <td>...</td>\n",
       "      <td>...</td>\n",
       "      <td>...</td>\n",
       "      <td>...</td>\n",
       "    </tr>\n",
       "    <tr>\n",
       "      <th>Ubisoft</th>\n",
       "      <td>18.43</td>\n",
       "      <td>29.37</td>\n",
       "      <td>1.86</td>\n",
       "      <td>9.18</td>\n",
       "      <td>58.89</td>\n",
       "      <td>35</td>\n",
       "    </tr>\n",
       "    <tr>\n",
       "      <th>Warner Bros. Interactive</th>\n",
       "      <td>2.83</td>\n",
       "      <td>2.42</td>\n",
       "      <td>0.24</td>\n",
       "      <td>1.06</td>\n",
       "      <td>6.56</td>\n",
       "      <td>2</td>\n",
       "    </tr>\n",
       "    <tr>\n",
       "      <th>Warner Bros. Interactive Entertainment</th>\n",
       "      <td>10.16</td>\n",
       "      <td>12.88</td>\n",
       "      <td>0.30</td>\n",
       "      <td>4.52</td>\n",
       "      <td>27.83</td>\n",
       "      <td>26</td>\n",
       "    </tr>\n",
       "    <tr>\n",
       "      <th>Xseed Games</th>\n",
       "      <td>0.06</td>\n",
       "      <td>0.00</td>\n",
       "      <td>0.01</td>\n",
       "      <td>0.01</td>\n",
       "      <td>0.08</td>\n",
       "      <td>1</td>\n",
       "    </tr>\n",
       "    <tr>\n",
       "      <th>Yacht Club Games</th>\n",
       "      <td>0.08</td>\n",
       "      <td>0.04</td>\n",
       "      <td>0.00</td>\n",
       "      <td>0.02</td>\n",
       "      <td>0.14</td>\n",
       "      <td>1</td>\n",
       "    </tr>\n",
       "  </tbody>\n",
       "</table>\n",
       "<p>78 rows × 6 columns</p>\n",
       "</div>"
      ],
      "text/plain": [
       "                                        North America  Europe  Japan  \\\n",
       "Publisher                                                              \n",
       "2K Games                                         2.93    3.62   0.18   \n",
       "2K Sports                                       10.22    3.96   0.14   \n",
       "505 Games                                        1.06    2.20   0.07   \n",
       "Acquire                                          0.09    0.00   0.02   \n",
       "Activision                                      28.13   30.93   1.65   \n",
       "...                                               ...     ...    ...   \n",
       "Ubisoft                                         18.43   29.37   1.86   \n",
       "Warner Bros. Interactive                         2.83    2.42   0.24   \n",
       "Warner Bros. Interactive Entertainment          10.16   12.88   0.30   \n",
       "Xseed Games                                      0.06    0.00   0.01   \n",
       "Yacht Club Games                                 0.08    0.04   0.00   \n",
       "\n",
       "                                        Rest of World  Global  Count  \n",
       "Publisher                                                             \n",
       "2K Games                                         1.28    8.03      7  \n",
       "2K Sports                                        3.05   17.36      7  \n",
       "505 Games                                        0.61    3.95     10  \n",
       "Acquire                                          0.02    0.13      1  \n",
       "Activision                                      11.69   72.32     25  \n",
       "...                                               ...     ...    ...  \n",
       "Ubisoft                                          9.18   58.89     35  \n",
       "Warner Bros. Interactive                         1.06    6.56      2  \n",
       "Warner Bros. Interactive Entertainment           4.52   27.83     26  \n",
       "Xseed Games                                      0.01    0.08      1  \n",
       "Yacht Club Games                                 0.02    0.14      1  \n",
       "\n",
       "[78 rows x 6 columns]"
      ]
     },
     "execution_count": 17,
     "metadata": {},
     "output_type": "execute_result"
    }
   ],
   "source": [
    "temp2 = (data_PS4['Publisher'].value_counts()\n",
    "         .sort_values(ascending=True)\n",
    "        )\n",
    "PS4_Publisher_count = df_Ps4_Publisher\n",
    "PS4_Publisher_count['Count'] = temp2\n",
    "PS4_Publisher_count"
   ]
  },
  {
   "cell_type": "code",
   "execution_count": 18,
   "metadata": {},
   "outputs": [
    {
     "data": {
      "text/html": [
       "<div>\n",
       "<style scoped>\n",
       "    .dataframe tbody tr th:only-of-type {\n",
       "        vertical-align: middle;\n",
       "    }\n",
       "\n",
       "    .dataframe tbody tr th {\n",
       "        vertical-align: top;\n",
       "    }\n",
       "\n",
       "    .dataframe thead th {\n",
       "        text-align: right;\n",
       "    }\n",
       "</style>\n",
       "<table border=\"1\" class=\"dataframe\">\n",
       "  <thead>\n",
       "    <tr style=\"text-align: right;\">\n",
       "      <th></th>\n",
       "      <th>North America</th>\n",
       "      <th>Europe</th>\n",
       "      <th>Japan</th>\n",
       "      <th>Rest of World</th>\n",
       "      <th>Global</th>\n",
       "      <th>Count</th>\n",
       "    </tr>\n",
       "    <tr>\n",
       "      <th>Genre</th>\n",
       "      <th></th>\n",
       "      <th></th>\n",
       "      <th></th>\n",
       "      <th></th>\n",
       "      <th></th>\n",
       "      <th></th>\n",
       "    </tr>\n",
       "  </thead>\n",
       "  <tbody>\n",
       "    <tr>\n",
       "      <th>Shooter</th>\n",
       "      <td>57.34</td>\n",
       "      <td>26.18</td>\n",
       "      <td>0.20</td>\n",
       "      <td>8.52</td>\n",
       "      <td>92.21</td>\n",
       "      <td>66</td>\n",
       "    </tr>\n",
       "    <tr>\n",
       "      <th>Action</th>\n",
       "      <td>30.56</td>\n",
       "      <td>15.23</td>\n",
       "      <td>0.08</td>\n",
       "      <td>4.58</td>\n",
       "      <td>50.51</td>\n",
       "      <td>114</td>\n",
       "    </tr>\n",
       "    <tr>\n",
       "      <th>Sports</th>\n",
       "      <td>25.61</td>\n",
       "      <td>12.91</td>\n",
       "      <td>0.02</td>\n",
       "      <td>3.86</td>\n",
       "      <td>42.43</td>\n",
       "      <td>58</td>\n",
       "    </tr>\n",
       "    <tr>\n",
       "      <th>Racing</th>\n",
       "      <td>8.50</td>\n",
       "      <td>7.91</td>\n",
       "      <td>0.09</td>\n",
       "      <td>1.52</td>\n",
       "      <td>17.97</td>\n",
       "      <td>45</td>\n",
       "    </tr>\n",
       "    <tr>\n",
       "      <th>Action-Adventure</th>\n",
       "      <td>10.43</td>\n",
       "      <td>5.49</td>\n",
       "      <td>0.01</td>\n",
       "      <td>1.58</td>\n",
       "      <td>17.47</td>\n",
       "      <td>28</td>\n",
       "    </tr>\n",
       "    <tr>\n",
       "      <th>Role-Playing</th>\n",
       "      <td>9.90</td>\n",
       "      <td>4.68</td>\n",
       "      <td>0.04</td>\n",
       "      <td>1.46</td>\n",
       "      <td>16.06</td>\n",
       "      <td>36</td>\n",
       "    </tr>\n",
       "    <tr>\n",
       "      <th>Misc</th>\n",
       "      <td>5.24</td>\n",
       "      <td>2.85</td>\n",
       "      <td>0.01</td>\n",
       "      <td>0.80</td>\n",
       "      <td>8.89</td>\n",
       "      <td>30</td>\n",
       "    </tr>\n",
       "    <tr>\n",
       "      <th>Fighting</th>\n",
       "      <td>4.40</td>\n",
       "      <td>1.30</td>\n",
       "      <td>0.01</td>\n",
       "      <td>0.59</td>\n",
       "      <td>6.30</td>\n",
       "      <td>16</td>\n",
       "    </tr>\n",
       "    <tr>\n",
       "      <th>Adventure</th>\n",
       "      <td>2.68</td>\n",
       "      <td>1.70</td>\n",
       "      <td>0.03</td>\n",
       "      <td>0.42</td>\n",
       "      <td>4.82</td>\n",
       "      <td>35</td>\n",
       "    </tr>\n",
       "    <tr>\n",
       "      <th>Music</th>\n",
       "      <td>3.18</td>\n",
       "      <td>0.78</td>\n",
       "      <td>0.00</td>\n",
       "      <td>0.43</td>\n",
       "      <td>4.41</td>\n",
       "      <td>13</td>\n",
       "    </tr>\n",
       "    <tr>\n",
       "      <th>Platform</th>\n",
       "      <td>1.53</td>\n",
       "      <td>0.80</td>\n",
       "      <td>0.00</td>\n",
       "      <td>0.25</td>\n",
       "      <td>2.57</td>\n",
       "      <td>17</td>\n",
       "    </tr>\n",
       "    <tr>\n",
       "      <th>Simulation</th>\n",
       "      <td>1.52</td>\n",
       "      <td>0.70</td>\n",
       "      <td>0.00</td>\n",
       "      <td>0.22</td>\n",
       "      <td>2.50</td>\n",
       "      <td>19</td>\n",
       "    </tr>\n",
       "    <tr>\n",
       "      <th>MMO</th>\n",
       "      <td>0.95</td>\n",
       "      <td>0.42</td>\n",
       "      <td>0.00</td>\n",
       "      <td>0.14</td>\n",
       "      <td>1.52</td>\n",
       "      <td>2</td>\n",
       "    </tr>\n",
       "    <tr>\n",
       "      <th>Strategy</th>\n",
       "      <td>0.68</td>\n",
       "      <td>0.17</td>\n",
       "      <td>0.00</td>\n",
       "      <td>0.09</td>\n",
       "      <td>0.93</td>\n",
       "      <td>14</td>\n",
       "    </tr>\n",
       "    <tr>\n",
       "      <th>Puzzle</th>\n",
       "      <td>0.16</td>\n",
       "      <td>0.04</td>\n",
       "      <td>0.00</td>\n",
       "      <td>0.03</td>\n",
       "      <td>0.23</td>\n",
       "      <td>5</td>\n",
       "    </tr>\n",
       "    <tr>\n",
       "      <th>Visual Novel</th>\n",
       "      <td>0.00</td>\n",
       "      <td>0.00</td>\n",
       "      <td>0.02</td>\n",
       "      <td>0.00</td>\n",
       "      <td>0.02</td>\n",
       "      <td>2</td>\n",
       "    </tr>\n",
       "  </tbody>\n",
       "</table>\n",
       "</div>"
      ],
      "text/plain": [
       "                  North America  Europe  Japan  Rest of World  Global  Count\n",
       "Genre                                                                       \n",
       "Shooter                   57.34   26.18   0.20           8.52   92.21     66\n",
       "Action                    30.56   15.23   0.08           4.58   50.51    114\n",
       "Sports                    25.61   12.91   0.02           3.86   42.43     58\n",
       "Racing                     8.50    7.91   0.09           1.52   17.97     45\n",
       "Action-Adventure          10.43    5.49   0.01           1.58   17.47     28\n",
       "Role-Playing               9.90    4.68   0.04           1.46   16.06     36\n",
       "Misc                       5.24    2.85   0.01           0.80    8.89     30\n",
       "Fighting                   4.40    1.30   0.01           0.59    6.30     16\n",
       "Adventure                  2.68    1.70   0.03           0.42    4.82     35\n",
       "Music                      3.18    0.78   0.00           0.43    4.41     13\n",
       "Platform                   1.53    0.80   0.00           0.25    2.57     17\n",
       "Simulation                 1.52    0.70   0.00           0.22    2.50     19\n",
       "MMO                        0.95    0.42   0.00           0.14    1.52      2\n",
       "Strategy                   0.68    0.17   0.00           0.09    0.93     14\n",
       "Puzzle                     0.16    0.04   0.00           0.03    0.23      5\n",
       "Visual Novel               0.00    0.00   0.02           0.00    0.02      2"
      ]
     },
     "execution_count": 18,
     "metadata": {},
     "output_type": "execute_result"
    }
   ],
   "source": [
    "temp4 = (data_XBOXONE['Publisher'].value_counts()\n",
    "         .sort_values(ascending=True)\n",
    "        )\n",
    "XBOX_Publisher_count = df_XBOX_genre\n",
    "XBOX_Publisher_count['Count'] = temp3\n",
    "XBOX_Publisher_count"
   ]
  },
  {
   "cell_type": "code",
   "execution_count": 19,
   "metadata": {},
   "outputs": [
    {
     "data": {
      "text/html": [
       "<div>\n",
       "<style scoped>\n",
       "    .dataframe tbody tr th:only-of-type {\n",
       "        vertical-align: middle;\n",
       "    }\n",
       "\n",
       "    .dataframe tbody tr th {\n",
       "        vertical-align: top;\n",
       "    }\n",
       "\n",
       "    .dataframe thead th {\n",
       "        text-align: right;\n",
       "    }\n",
       "</style>\n",
       "<table border=\"1\" class=\"dataframe\">\n",
       "  <thead>\n",
       "    <tr style=\"text-align: right;\">\n",
       "      <th></th>\n",
       "      <th>North America</th>\n",
       "      <th>Europe</th>\n",
       "      <th>Japan</th>\n",
       "      <th>Rest of World</th>\n",
       "      <th>Global</th>\n",
       "    </tr>\n",
       "    <tr>\n",
       "      <th>Publisher</th>\n",
       "      <th></th>\n",
       "      <th></th>\n",
       "      <th></th>\n",
       "      <th></th>\n",
       "      <th></th>\n",
       "    </tr>\n",
       "  </thead>\n",
       "  <tbody>\n",
       "    <tr>\n",
       "      <th>Microsoft Studios</th>\n",
       "      <td>25.59</td>\n",
       "      <td>14.79</td>\n",
       "      <td>0.22</td>\n",
       "      <td>3.99</td>\n",
       "      <td>44.61</td>\n",
       "    </tr>\n",
       "    <tr>\n",
       "      <th>Activision</th>\n",
       "      <td>24.20</td>\n",
       "      <td>10.26</td>\n",
       "      <td>0.03</td>\n",
       "      <td>3.53</td>\n",
       "      <td>38.02</td>\n",
       "    </tr>\n",
       "    <tr>\n",
       "      <th>Ubisoft</th>\n",
       "      <td>18.68</td>\n",
       "      <td>10.04</td>\n",
       "      <td>0.02</td>\n",
       "      <td>2.87</td>\n",
       "      <td>31.57</td>\n",
       "    </tr>\n",
       "    <tr>\n",
       "      <th>Electronic Arts</th>\n",
       "      <td>17.35</td>\n",
       "      <td>10.22</td>\n",
       "      <td>0.09</td>\n",
       "      <td>2.70</td>\n",
       "      <td>30.37</td>\n",
       "    </tr>\n",
       "    <tr>\n",
       "      <th>EA Sports</th>\n",
       "      <td>13.62</td>\n",
       "      <td>7.01</td>\n",
       "      <td>0.00</td>\n",
       "      <td>2.05</td>\n",
       "      <td>22.69</td>\n",
       "    </tr>\n",
       "    <tr>\n",
       "      <th>...</th>\n",
       "      <td>...</td>\n",
       "      <td>...</td>\n",
       "      <td>...</td>\n",
       "      <td>...</td>\n",
       "      <td>...</td>\n",
       "    </tr>\n",
       "    <tr>\n",
       "      <th>5pb</th>\n",
       "      <td>0.00</td>\n",
       "      <td>0.00</td>\n",
       "      <td>0.02</td>\n",
       "      <td>0.00</td>\n",
       "      <td>0.02</td>\n",
       "    </tr>\n",
       "    <tr>\n",
       "      <th>Wired Productions</th>\n",
       "      <td>0.02</td>\n",
       "      <td>0.00</td>\n",
       "      <td>0.00</td>\n",
       "      <td>0.00</td>\n",
       "      <td>0.02</td>\n",
       "    </tr>\n",
       "    <tr>\n",
       "      <th>Team17 Digital Ltd</th>\n",
       "      <td>0.02</td>\n",
       "      <td>0.00</td>\n",
       "      <td>0.00</td>\n",
       "      <td>0.00</td>\n",
       "      <td>0.02</td>\n",
       "    </tr>\n",
       "    <tr>\n",
       "      <th>11 bit studios</th>\n",
       "      <td>0.00</td>\n",
       "      <td>0.01</td>\n",
       "      <td>0.00</td>\n",
       "      <td>0.00</td>\n",
       "      <td>0.01</td>\n",
       "    </tr>\n",
       "    <tr>\n",
       "      <th>Alternative Software</th>\n",
       "      <td>0.00</td>\n",
       "      <td>0.01</td>\n",
       "      <td>0.00</td>\n",
       "      <td>0.00</td>\n",
       "      <td>0.01</td>\n",
       "    </tr>\n",
       "  </tbody>\n",
       "</table>\n",
       "<p>79 rows × 5 columns</p>\n",
       "</div>"
      ],
      "text/plain": [
       "                      North America  Europe  Japan  Rest of World  Global\n",
       "Publisher                                                                \n",
       "Microsoft Studios             25.59   14.79   0.22           3.99   44.61\n",
       "Activision                    24.20   10.26   0.03           3.53   38.02\n",
       "Ubisoft                       18.68   10.04   0.02           2.87   31.57\n",
       "Electronic Arts               17.35   10.22   0.09           2.70   30.37\n",
       "EA Sports                     13.62    7.01   0.00           2.05   22.69\n",
       "...                             ...     ...    ...            ...     ...\n",
       "5pb                            0.00    0.00   0.02           0.00    0.02\n",
       "Wired Productions              0.02    0.00   0.00           0.00    0.02\n",
       "Team17 Digital Ltd             0.02    0.00   0.00           0.00    0.02\n",
       "11 bit studios                 0.00    0.01   0.00           0.00    0.01\n",
       "Alternative Software           0.00    0.01   0.00           0.00    0.01\n",
       "\n",
       "[79 rows x 5 columns]"
      ]
     },
     "execution_count": 19,
     "metadata": {},
     "output_type": "execute_result"
    }
   ],
   "source": [
    "df_XBOX_Publisher =df_XBOX_Publisher[df_XBOX_Publisher.Global!= 0]\n",
    "df_XBOX_Publisher"
   ]
  },
  {
   "cell_type": "markdown",
   "metadata": {},
   "source": [
    "## ***4) Plotting graphs***"
   ]
  },
  {
   "cell_type": "markdown",
   "metadata": {},
   "source": [
    "### ***4.1) Plotting graphs of Genres***"
   ]
  },
  {
   "cell_type": "code",
   "execution_count": 20,
   "metadata": {},
   "outputs": [],
   "source": [
    "df_Ps4_genre.drop(columns = 'Count',inplace = True)\n",
    "df_XBOX_genre.drop(columns = 'Count',inplace = True)"
   ]
  },
  {
   "cell_type": "code",
   "execution_count": 21,
   "metadata": {},
   "outputs": [
    {
     "data": {
      "text/plain": [
       "Text(0.5, 1.0, 'PS4 Sales by Genre')"
      ]
     },
     "execution_count": 21,
     "metadata": {},
     "output_type": "execute_result"
    },
    {
     "data": {
      "image/png": "[encoded data removed]",
      "text/plain": [
       "<Figure size 432x288 with 1 Axes>"
      ]
     },
     "metadata": {
      "needs_background": "light"
     },
     "output_type": "display_data"
    }
   ],
   "source": [
    "a =sns.barplot(data=df_Ps4_genre)\n",
    "a.set(xlabel=\"Genres\", ylabel = \"Sales in millions\")\n",
    "plt.title(\"PS4 Sales by Genre\")"
   ]
  },
  {
   "cell_type": "code",
   "execution_count": 22,
   "metadata": {},
   "outputs": [
    {
     "data": {
      "text/plain": [
       "Text(0.5, 1.0, 'XBOX ONE Total Genre Sales by Region')"
      ]
     },
     "execution_count": 22,
     "metadata": {},
     "output_type": "execute_result"
    },
    {
     "data": {
      "image/png": "[encoded data removed]",
      "text/plain": [
       "<Figure size 432x288 with 1 Axes>"
      ]
     },
     "metadata": {
      "needs_background": "light"
     },
     "output_type": "display_data"
    }
   ],
   "source": [
    "b = sns.barplot(data=df_XBOX_genre)\n",
    "b.set(xlabel=\"Regions\", ylabel = \"Sales in millions\")\n",
    "plt.title(\"XBOX ONE Total Genre Sales by Region\")"
   ]
  },
  {
   "cell_type": "markdown",
   "metadata": {},
   "source": [
    "### *Above are barplots for total sales by Genre*\n",
    "---------------------------------------------------------"
   ]
  },
  {
   "cell_type": "code",
   "execution_count": 23,
   "metadata": {},
   "outputs": [
    {
     "data": {
      "text/plain": [
       "Text(0.5, 1.0, 'PS4 Sales by Genre')"
      ]
     },
     "execution_count": 23,
     "metadata": {},
     "output_type": "execute_result"
    },
    {
     "data": {
      "image/png": "[encoded data removed]",
      "text/plain": [
       "<Figure size 432x288 with 1 Axes>"
      ]
     },
     "metadata": {
      "needs_background": "light"
     },
     "output_type": "display_data"
    }
   ],
   "source": [
    "a =sns.boxplot(data=df_Ps4_genre)\n",
    "a.set(xlabel=\"Genres\", ylabel = \"Sales in millions\")\n",
    "plt.title(\"PS4 Sales by Genre\")"
   ]
  },
  {
   "cell_type": "code",
   "execution_count": 24,
   "metadata": {},
   "outputs": [
    {
     "data": {
      "text/plain": [
       "Text(0.5, 1.0, 'XBOX ONE Total Genre Sales by Region')"
      ]
     },
     "execution_count": 24,
     "metadata": {},
     "output_type": "execute_result"
    },
    {
     "data": {
      "image/png": "[encoded data removed]",
      "text/plain": [
       "<Figure size 432x288 with 1 Axes>"
      ]
     },
     "metadata": {
      "needs_background": "light"
     },
     "output_type": "display_data"
    }
   ],
   "source": [
    "b = sns.boxplot(data=df_XBOX_genre)\n",
    "b.set(xlabel=\"Regions\", ylabel = \"Sales in millions\")\n",
    "plt.title(\"XBOX ONE Total Genre Sales by Region\")\n"
   ]
  },
  {
   "cell_type": "code",
   "execution_count": 25,
   "metadata": {},
   "outputs": [
    {
     "data": {
      "text/plain": [
       "Text(0.5, 1.0, 'PS4 Sales by Genre')"
      ]
     },
     "execution_count": 25,
     "metadata": {},
     "output_type": "execute_result"
    },
    {
     "data": {
      "image/png": "[encoded data removed]",
      "text/plain": [
       "<Figure size 432x288 with 1 Axes>"
      ]
     },
     "metadata": {
      "needs_background": "light"
     },
     "output_type": "display_data"
    }
   ],
   "source": [
    "a =sns.boxenplot(data=df_Ps4_genre)\n",
    "a.set(xlabel=\"Genres\", ylabel = \"Sales in millions\")\n",
    "plt.title(\"PS4 Sales by Genre\")"
   ]
  },
  {
   "cell_type": "code",
   "execution_count": 26,
   "metadata": {},
   "outputs": [
    {
     "data": {
      "text/plain": [
       "Text(0.5, 1.0, 'XBOX ONE Total Genre Sales by Region')"
      ]
     },
     "execution_count": 26,
     "metadata": {},
     "output_type": "execute_result"
    },
    {
     "data": {
      "image/png": "[encoded data removed]",
      "text/plain": [
       "<Figure size 432x288 with 1 Axes>"
      ]
     },
     "metadata": {
      "needs_background": "light"
     },
     "output_type": "display_data"
    }
   ],
   "source": [
    "b = sns.boxenplot(data=df_XBOX_genre)\n",
    "b.set(xlabel=\"Regions\", ylabel = \"Sales in millions\")\n",
    "plt.title(\"XBOX ONE Total Genre Sales by Region\")\n"
   ]
  },
  {
   "cell_type": "markdown",
   "metadata": {},
   "source": [
    "### *Above are boxplots for total sales by Genre*\n",
    "\n",
    "-----------"
   ]
  },
  {
   "cell_type": "code",
   "execution_count": 27,
   "metadata": {},
   "outputs": [
    {
     "data": {
      "image/png": "[encoded data removed]",
      "text/plain": [
       "<Figure size 432x288 with 1 Axes>"
      ]
     },
     "metadata": {
      "needs_background": "light"
     },
     "output_type": "display_data"
    }
   ],
   "source": [
    "a =sns.lineplot(data=df_Ps4_genre)\n",
    "a.set(xlabel=\"Genres\", ylabel = \"Sales in millions\")\n",
    "plt.title(\"PS4 Sales by Genre\")\n",
    "for item in a.get_xticklabels():\n",
    "    item.set_rotation(70)"
   ]
  },
  {
   "cell_type": "code",
   "execution_count": 28,
   "metadata": {},
   "outputs": [
    {
     "data": {
      "image/png": "[encoded data removed]",
      "text/plain": [
       "<Figure size 432x288 with 1 Axes>"
      ]
     },
     "metadata": {
      "needs_background": "light"
     },
     "output_type": "display_data"
    }
   ],
   "source": [
    "b = sns.lineplot(data=df_XBOX_genre)\n",
    "b.set(xlabel=\"Regions\", ylabel = \"Sales in millions\")\n",
    "plt.title(\"XBOX ONE Total Genre Sales by Region\")\n",
    "for item in b.get_xticklabels():\n",
    "    item.set_rotation(70)"
   ]
  },
  {
   "cell_type": "markdown",
   "metadata": {},
   "source": [
    "### *Above are lineplots for total sales by Genre*\n",
    "\n",
    "---"
   ]
  },
  {
   "cell_type": "code",
   "execution_count": 29,
   "metadata": {},
   "outputs": [
    {
     "data": {
      "text/plain": [
       "Text(0.5, 1.0, 'PS4 Sales by Genre')"
      ]
     },
     "execution_count": 29,
     "metadata": {},
     "output_type": "execute_result"
    },
    {
     "data": {
      "image/png": "[encoded data removed]",
      "text/plain": [
       "<Figure size 360x360 with 1 Axes>"
      ]
     },
     "metadata": {
      "needs_background": "light"
     },
     "output_type": "display_data"
    }
   ],
   "source": [
    "a =sns.catplot(data=df_Ps4_genre)\n",
    "a.set(xlabel=\"Genres\", ylabel = \"Sales in millions\")\n",
    "plt.title(\"PS4 Sales by Genre\")"
   ]
  },
  {
   "cell_type": "code",
   "execution_count": 30,
   "metadata": {},
   "outputs": [
    {
     "data": {
      "text/plain": [
       "Text(0.5, 1.0, 'XBOX ONE Total Genre Sales by Region')"
      ]
     },
     "execution_count": 30,
     "metadata": {},
     "output_type": "execute_result"
    },
    {
     "data": {
      "image/png": "[encoded data removed]",
      "text/plain": [
       "<Figure size 360x360 with 1 Axes>"
      ]
     },
     "metadata": {
      "needs_background": "light"
     },
     "output_type": "display_data"
    }
   ],
   "source": [
    "b = sns.catplot(data=df_XBOX_genre)\n",
    "b.set(xlabel=\"Regions\", ylabel = \"Sales in millions\")\n",
    "plt.title(\"XBOX ONE Total Genre Sales by Region\")\n"
   ]
  },
  {
   "cell_type": "code",
   "execution_count": 31,
   "metadata": {},
   "outputs": [
    {
     "data": {
      "text/plain": [
       "Text(0.5, 1.0, 'PS4 Sales by Genre')"
      ]
     },
     "execution_count": 31,
     "metadata": {},
     "output_type": "execute_result"
    },
    {
     "data": {
      "image/png": "[encoded data removed]",
      "text/plain": [
       "<Figure size 432x288 with 1 Axes>"
      ]
     },
     "metadata": {
      "needs_background": "light"
     },
     "output_type": "display_data"
    }
   ],
   "source": [
    "a =sns.stripplot(data=df_Ps4_genre)\n",
    "a.set(xlabel=\"Genres\", ylabel = \"Sales in millions\")\n",
    "plt.title(\"PS4 Sales by Genre\")\n"
   ]
  },
  {
   "cell_type": "code",
   "execution_count": 32,
   "metadata": {},
   "outputs": [
    {
     "data": {
      "text/plain": [
       "Text(0.5, 1.0, 'XBOX ONE Total Genre Sales by Region')"
      ]
     },
     "execution_count": 32,
     "metadata": {},
     "output_type": "execute_result"
    },
    {
     "data": {
      "image/png": "[encoded data removed]",
      "text/plain": [
       "<Figure size 432x288 with 1 Axes>"
      ]
     },
     "metadata": {
      "needs_background": "light"
     },
     "output_type": "display_data"
    }
   ],
   "source": [
    "    b = sns.stripplot(data=df_XBOX_genre)\n",
    "b.set(xlabel=\"Regions\", ylabel = \"Sales in millions\")\n",
    "plt.title(\"XBOX ONE Total Genre Sales by Region\")\n"
   ]
  },
  {
   "cell_type": "markdown",
   "metadata": {},
   "source": [
    "### *Above are catplots and stripplots for total sales by Genre*\n",
    "---"
   ]
  },
  {
   "cell_type": "code",
   "execution_count": 33,
   "metadata": {},
   "outputs": [
    {
     "data": {
      "text/plain": [
       "Text(0.5, 1.0, 'PS4 Sales by Genre')"
      ]
     },
     "execution_count": 33,
     "metadata": {},
     "output_type": "execute_result"
    },
    {
     "data": {
      "image/png": "[encoded data removed]",
      "text/plain": [
       "<Figure size 432x288 with 1 Axes>"
      ]
     },
     "metadata": {
      "needs_background": "light"
     },
     "output_type": "display_data"
    }
   ],
   "source": [
    "a =sns.violinplot(data=df_Ps4_genre)\n",
    "a.set(xlabel=\"Genres\", ylabel = \"Sales in millions\")\n",
    "plt.title(\"PS4 Sales by Genre\")"
   ]
  },
  {
   "cell_type": "code",
   "execution_count": 34,
   "metadata": {},
   "outputs": [
    {
     "data": {
      "text/plain": [
       "Text(0.5, 1.0, 'XBOX ONE Total Genre Sales by Region')"
      ]
     },
     "execution_count": 34,
     "metadata": {},
     "output_type": "execute_result"
    },
    {
     "data": {
      "image/png": "[encoded data removed]",
      "text/plain": [
       "<Figure size 432x288 with 1 Axes>"
      ]
     },
     "metadata": {
      "needs_background": "light"
     },
     "output_type": "display_data"
    }
   ],
   "source": [
    "b = sns.violinplot(data=df_XBOX_genre)\n",
    "b.set(xlabel=\"Regions\", ylabel = \"Sales in millions\")\n",
    "plt.title(\"XBOX ONE Total Genre Sales by Region\")\n"
   ]
  },
  {
   "cell_type": "markdown",
   "metadata": {},
   "source": [
    "### *Above are violinplots for total sales by Genre*\n",
    "----"
   ]
  },
  {
   "cell_type": "markdown",
   "metadata": {},
   "source": [
    "### ***4.2) Ploting graphs for Publishers***"
   ]
  },
  {
   "cell_type": "code",
   "execution_count": 35,
   "metadata": {},
   "outputs": [
    {
     "data": {
      "text/plain": [
       "Text(0.5, 1.0, 'XBOX ONE Sales by Publisher')"
      ]
     },
     "execution_count": 35,
     "metadata": {},
     "output_type": "execute_result"
    },
    {
     "data": {
      "image/png": "[encoded data removed]",
      "text/plain": [
       "<Figure size 432x288 with 1 Axes>"
      ]
     },
     "metadata": {
      "needs_background": "light"
     },
     "output_type": "display_data"
    }
   ],
   "source": [
    "a =sns.barplot(data=df_Ps4_Publisher)\n",
    "a.set(xlabel=\"Publishers\", ylabel = \"Sales in millions\")\n",
    "plt.title(\"XBOX ONE Sales by Publisher\")"
   ]
  },
  {
   "cell_type": "code",
   "execution_count": 36,
   "metadata": {},
   "outputs": [
    {
     "data": {
      "text/plain": [
       "Text(0.5, 1.0, 'XBOX ONE Sales by Publisher')"
      ]
     },
     "execution_count": 36,
     "metadata": {},
     "output_type": "execute_result"
    },
    {
     "data": {
      "image/png": "[encoded data removed]",
      "text/plain": [
       "<Figure size 432x288 with 1 Axes>"
      ]
     },
     "metadata": {
      "needs_background": "light"
     },
     "output_type": "display_data"
    }
   ],
   "source": [
    "b = sns.barplot(data=df_XBOX_Publisher)\n",
    "b.set(xlabel=\"Genres\", ylabel = \"Sales in millions\")\n",
    "plt.title(\"XBOX ONE Sales by Publisher\")"
   ]
  },
  {
   "cell_type": "markdown",
   "metadata": {},
   "source": [
    "### *Above are barplots for total sales by Publisher*\n",
    "---"
   ]
  },
  {
   "cell_type": "code",
   "execution_count": 37,
   "metadata": {},
   "outputs": [
    {
     "data": {
      "text/plain": [
       "Text(0.5, 1.0, 'XBOX ONE Sales by Publisher')"
      ]
     },
     "execution_count": 37,
     "metadata": {},
     "output_type": "execute_result"
    },
    {
     "data": {
      "image/png": "[encoded data removed]",
      "text/plain": [
       "<Figure size 432x288 with 1 Axes>"
      ]
     },
     "metadata": {
      "needs_background": "light"
     },
     "output_type": "display_data"
    }
   ],
   "source": [
    "a =sns.boxplot(data=df_Ps4_Publisher)\n",
    "a.set(xlabel=\"Publishers\", ylabel = \"Sales in millions\")\n",
    "plt.title(\"XBOX ONE Sales by Publisher\")"
   ]
  },
  {
   "cell_type": "code",
   "execution_count": 38,
   "metadata": {},
   "outputs": [
    {
     "data": {
      "text/plain": [
       "Text(0.5, 1.0, 'XBOX ONE Sales by Publisher')"
      ]
     },
     "execution_count": 38,
     "metadata": {},
     "output_type": "execute_result"
    },
    {
     "data": {
      "image/png": "[encoded data removed]",
      "text/plain": [
       "<Figure size 432x288 with 1 Axes>"
      ]
     },
     "metadata": {
      "needs_background": "light"
     },
     "output_type": "display_data"
    }
   ],
   "source": [
    "b = sns.boxplot(data=df_XBOX_Publisher)\n",
    "b.set(xlabel=\"Genres\", ylabel = \"Sales in millions\")\n",
    "plt.title(\"XBOX ONE Sales by Publisher\")"
   ]
  },
  {
   "cell_type": "code",
   "execution_count": 39,
   "metadata": {},
   "outputs": [
    {
     "data": {
      "text/plain": [
       "Text(0.5, 1.0, 'XBOX ONE Sales by Publisher')"
      ]
     },
     "execution_count": 39,
     "metadata": {},
     "output_type": "execute_result"
    },
    {
     "data": {
      "image/png": "[encoded data removed]",
      "text/plain": [
       "<Figure size 432x288 with 1 Axes>"
      ]
     },
     "metadata": {
      "needs_background": "light"
     },
     "output_type": "display_data"
    }
   ],
   "source": [
    "a =sns.boxenplot(data=df_Ps4_Publisher)\n",
    "a.set(xlabel=\"Publishers\", ylabel = \"Sales in millions\")\n",
    "plt.title(\"XBOX ONE Sales by Publisher\")"
   ]
  },
  {
   "cell_type": "code",
   "execution_count": 40,
   "metadata": {},
   "outputs": [
    {
     "data": {
      "text/plain": [
       "Text(0.5, 1.0, 'XBOX ONE Sales by Publisher')"
      ]
     },
     "execution_count": 40,
     "metadata": {},
     "output_type": "execute_result"
    },
    {
     "data": {
      "image/png": "[encoded data removed]",
      "text/plain": [
       "<Figure size 432x288 with 1 Axes>"
      ]
     },
     "metadata": {
      "needs_background": "light"
     },
     "output_type": "display_data"
    }
   ],
   "source": [
    "b = sns.boxenplot(data=df_XBOX_Publisher)\n",
    "b.set(xlabel=\"Genres\", ylabel = \"Sales in millions\")\n",
    "plt.title(\"XBOX ONE Sales by Publisher\")"
   ]
  },
  {
   "cell_type": "markdown",
   "metadata": {},
   "source": [
    "### *Above are boxplots for total sales by Publisher*\n",
    "---"
   ]
  },
  {
   "cell_type": "code",
   "execution_count": 41,
   "metadata": {},
   "outputs": [
    {
     "data": {
      "image/png": "[encoded data removed]",
      "text/plain": [
       "<Figure size 432x288 with 1 Axes>"
      ]
     },
     "metadata": {
      "needs_background": "light"
     },
     "output_type": "display_data"
    }
   ],
   "source": [
    "a =sns.lineplot(data=df_Ps4_Publisher)\n",
    "a.set(xlabel=\"Publishers\", ylabel = \"Sales in millions\",)\n",
    "plt.title(\"XBOX ONE Sales by Publisher\")\n",
    "for item in a.get_xticklabels():\n",
    "    item.set_rotation(70)"
   ]
  },
  {
   "cell_type": "code",
   "execution_count": 42,
   "metadata": {},
   "outputs": [
    {
     "data": {
      "image/png": "[encoded data removed]",
      "text/plain": [
       "<Figure size 432x288 with 1 Axes>"
      ]
     },
     "metadata": {
      "needs_background": "light"
     },
     "output_type": "display_data"
    }
   ],
   "source": [
    "b = sns.lineplot(data=df_XBOX_Publisher)\n",
    "b.set(xlabel=\"Publishers\", ylabel = \"Sales in millions\")\n",
    "plt.title(\"XBOX ONE Sales by Publisher\")\n",
    "for item in b.get_xticklabels():\n",
    "    item.set_rotation(70)"
   ]
  },
  {
   "cell_type": "markdown",
   "metadata": {},
   "source": [
    "### *Above are lineplots for total sales by Publisher*\n",
    "---"
   ]
  },
  {
   "cell_type": "code",
   "execution_count": 43,
   "metadata": {},
   "outputs": [
    {
     "data": {
      "text/plain": [
       "Text(0.5, 1.0, 'XBOX ONE Sales by Publisher')"
      ]
     },
     "execution_count": 43,
     "metadata": {},
     "output_type": "execute_result"
    },
    {
     "data": {
      "image/png": "[encoded data removed]",
      "text/plain": [
       "<Figure size 360x360 with 1 Axes>"
      ]
     },
     "metadata": {
      "needs_background": "light"
     },
     "output_type": "display_data"
    }
   ],
   "source": [
    "a =sns.catplot(data=df_Ps4_Publisher)\n",
    "a.set(xlabel=\"Publishers\", ylabel = \"Sales in millions\")\n",
    "plt.title(\"XBOX ONE Sales by Publisher\")"
   ]
  },
  {
   "cell_type": "code",
   "execution_count": 44,
   "metadata": {},
   "outputs": [
    {
     "data": {
      "text/plain": [
       "Text(0.5, 1.0, 'XBOX ONE Sales by Publisher')"
      ]
     },
     "execution_count": 44,
     "metadata": {},
     "output_type": "execute_result"
    },
    {
     "data": {
      "image/png": "[encoded data removed]",
      "text/plain": [
       "<Figure size 360x360 with 1 Axes>"
      ]
     },
     "metadata": {
      "needs_background": "light"
     },
     "output_type": "display_data"
    }
   ],
   "source": [
    "b = sns.catplot(data=df_XBOX_Publisher)\n",
    "b.set(xlabel=\"Genres\", ylabel = \"Sales in millions\")\n",
    "plt.title(\"XBOX ONE Sales by Publisher\")"
   ]
  },
  {
   "cell_type": "code",
   "execution_count": 45,
   "metadata": {},
   "outputs": [
    {
     "data": {
      "text/plain": [
       "Text(0.5, 1.0, 'XBOX ONE Sales by Publisher')"
      ]
     },
     "execution_count": 45,
     "metadata": {},
     "output_type": "execute_result"
    },
    {
     "data": {
      "image/png": "[encoded data removed]",
      "text/plain": [
       "<Figure size 432x288 with 1 Axes>"
      ]
     },
     "metadata": {
      "needs_background": "light"
     },
     "output_type": "display_data"
    }
   ],
   "source": [
    "a =sns.stripplot(data=df_Ps4_Publisher)\n",
    "a.set(xlabel=\"Publishers\", ylabel = \"Sales in millions\")\n",
    "plt.title(\"XBOX ONE Sales by Publisher\")"
   ]
  },
  {
   "cell_type": "code",
   "execution_count": 46,
   "metadata": {},
   "outputs": [
    {
     "data": {
      "text/plain": [
       "Text(0.5, 1.0, 'XBOX ONE Sales by Publisher')"
      ]
     },
     "execution_count": 46,
     "metadata": {},
     "output_type": "execute_result"
    },
    {
     "data": {
      "image/png": "[encoded data removed]",
      "text/plain": [
       "<Figure size 432x288 with 1 Axes>"
      ]
     },
     "metadata": {
      "needs_background": "light"
     },
     "output_type": "display_data"
    }
   ],
   "source": [
    "b = sns.stripplot(data=df_XBOX_Publisher)\n",
    "b.set(xlabel=\"Genres\", ylabel = \"Sales in millions\")\n",
    "plt.title(\"XBOX ONE Sales by Publisher\")"
   ]
  },
  {
   "cell_type": "markdown",
   "metadata": {},
   "source": [
    "### *Above are scatter and cat-plots  for total sales by Publisher*\n",
    "---"
   ]
  },
  {
   "cell_type": "code",
   "execution_count": 47,
   "metadata": {},
   "outputs": [
    {
     "data": {
      "text/plain": [
       "Text(0.5, 1.0, 'XBOX ONE Sales by Publisher')"
      ]
     },
     "execution_count": 47,
     "metadata": {},
     "output_type": "execute_result"
    },
    {
     "data": {
      "image/png": "[encoded data removed]",
      "text/plain": [
       "<Figure size 432x288 with 1 Axes>"
      ]
     },
     "metadata": {
      "needs_background": "light"
     },
     "output_type": "display_data"
    }
   ],
   "source": [
    "a =sns.violinplot(data=df_Ps4_Publisher)\n",
    "a.set(xlabel=\"Publishers\", ylabel = \"Sales in millions\")\n",
    "plt.title(\"XBOX ONE Sales by Publisher\")"
   ]
  },
  {
   "cell_type": "code",
   "execution_count": 48,
   "metadata": {},
   "outputs": [
    {
     "data": {
      "text/plain": [
       "Text(0.5, 1.0, 'XBOX ONE Sales by Publisher')"
      ]
     },
     "execution_count": 48,
     "metadata": {},
     "output_type": "execute_result"
    },
    {
     "data": {
      "image/png": "[encoded data removed]",
      "text/plain": [
       "<Figure size 432x288 with 1 Axes>"
      ]
     },
     "metadata": {
      "needs_background": "light"
     },
     "output_type": "display_data"
    }
   ],
   "source": [
    "b = sns.violinplot(data=df_XBOX_Publisher)\n",
    "b.set(xlabel=\"Genres\", ylabel = \"Sales in millions\")\n",
    "plt.title(\"XBOX ONE Sales by Publisher\")"
   ]
  },
  {
   "cell_type": "markdown",
   "metadata": {},
   "source": [
    "### *Above are violinplots for total sales by Publisher*\n",
    "---"
   ]
  },
  {
   "cell_type": "markdown",
   "metadata": {},
   "source": [
    "## ***5) Reseach EDA :- How did the modern  console wars looked in the generation of PS4 and Xbox One in terms of sales*** "
   ]
  },
  {
   "cell_type": "markdown",
   "metadata": {},
   "source": [
    "![Genres](<images/Screenshot 2021-08-12 at 3.12.40 AM.png>)"
   ]
  },
  {
   "cell_type": "markdown",
   "metadata": {},
   "source": [
    "\n",
    "***Ans.)** Sales for Publishers and popularity by Genres : For the analysis above, we see that Ps4 games are generally more popular than XBOX games. While reviewing the data tables for genres of XBOX ONE and PS4, we can see that PS4 has higher sales than XBOX. We also see that most popular genres despite sales figures is as follows: for PS4, it's Action while for XBOX its Shooters. For total sales by a publisher, we see third party Publishers earning more for PS4 games than XBOX games. Most titles by a Publisher on PS4 are : ACTIVISION and for XBOX are Microsoft Studios*\n"
   ]
  },
  {
   "cell_type": "markdown",
   "metadata": {},
   "source": [
    "*Region wise: Region wise, we see both consoles being more popular in North America, followed by Europe and other Region of worlds. Japan seems to be the lowest sales,even though being the major developers and popular for gaming, mostly mainly due to smaller popular as compared to others. Global Sales are sum of all sales of North America, Europe, Japan and other smaller regions. PS4 still leads ahead of Xbox in term of Sales*\n"
   ]
  },
  {
   "cell_type": "markdown",
   "metadata": {},
   "source": [
    "*Conclusion: we can state that PS4 has been more popular than XBOX in terms of sales by individually for genres and publishers. Thus, we can say that Ps4 has been more popular than XBOX in terms of sales and publishers earning and thus PS4 is more popular.*"
   ]
  }
 ],
 "metadata": {
  "kernelspec": {
   "display_name": "Python 3",
   "language": "python",
   "name": "python3"
  },
  "language_info": {
   "codemirror_mode": {
    "name": "ipython",
    "version": 3
   },
   "file_extension": ".py",
   "mimetype": "text/x-python",
   "name": "python",
   "nbconvert_exporter": "python",
   "pygments_lexer": "ipython3",
   "version": "3.8.5"
  }
 },
 "nbformat": 4,
 "nbformat_minor": 4
}
