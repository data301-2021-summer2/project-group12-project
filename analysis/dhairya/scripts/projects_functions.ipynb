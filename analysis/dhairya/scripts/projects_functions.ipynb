{
 "cells": [
  {
   "cell_type": "code",
   "execution_count": 1,
   "metadata": {},
   "outputs": [],
   "source": [
    "def load_and_process(url_or_path_to_csv_file):\n",
    "\n",
    "    # Method Chain 1 (Load data and deal with missing data)\n",
    "\n",
    "    df1 = (\n",
    "            import pandas as pd\n",
    "          pd.read_csv(url_or_path_to_csv_file,encoding = 'latin')\n",
    "\n",
    "    )\n",
    "    range1 = range(500,len(df1))\n",
    "    list1 = [i for i in range1]\n",
    " \n",
    "    df1.drop([i for i in list1],inplace = True)\n",
    "\n",
    "    # Make sure to return the latest dataframe\n",
    "\n",
    "    return df1 \n"
   ]
  },
  {
   "cell_type": "code",
   "execution_count": null,
   "metadata": {},
   "outputs": [],
   "source": []
  }
 ],
 "metadata": {
  "kernelspec": {
   "display_name": "Python 3",
   "language": "python",
   "name": "python3"
  },
  "language_info": {
   "codemirror_mode": {
    "name": "ipython",
    "version": 3
   },
   "file_extension": ".py",
   "mimetype": "text/x-python",
   "name": "python",
   "nbconvert_exporter": "python",
   "pygments_lexer": "ipython3",
   "version": "3.8.5"
  }
 },
 "nbformat": 4,
 "nbformat_minor": 4
}
